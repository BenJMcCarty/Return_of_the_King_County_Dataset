{
 "cells": [
  {
   "cell_type": "code",
   "execution_count": 140,
   "id": "036e5f39-a67f-42f8-8965-932b348a9bec",
   "metadata": {
    "execution": {
     "iopub.execute_input": "2024-02-21T06:54:52.891202Z",
     "iopub.status.busy": "2024-02-21T06:54:52.891202Z",
     "iopub.status.idle": "2024-02-21T06:54:52.899213Z",
     "shell.execute_reply": "2024-02-21T06:54:52.899213Z",
     "shell.execute_reply.started": "2024-02-21T06:54:52.891202Z"
    }
   },
   "outputs": [],
   "source": [
    "import datetime as dt\n",
    "import numpy as np\n",
    "import pandas as pd\n",
    "import matplotlib.pyplot as plt\n",
    "import seaborn as sns\n",
    "import missingno"
   ]
  },
  {
   "cell_type": "code",
   "execution_count": 141,
   "id": "8dab9470-0bdc-40cf-87a2-9b65d01f15ce",
   "metadata": {
    "execution": {
     "iopub.execute_input": "2024-02-21T06:54:52.901203Z",
     "iopub.status.busy": "2024-02-21T06:54:52.901203Z",
     "iopub.status.idle": "2024-02-21T06:54:52.915424Z",
     "shell.execute_reply": "2024-02-21T06:54:52.914423Z",
     "shell.execute_reply.started": "2024-02-21T06:54:52.901203Z"
    }
   },
   "outputs": [],
   "source": [
    "from sklearn import metrics\n",
    "from sklearn.compose import ColumnTransformer, TransformedTargetRegressor\n",
    "from sklearn.dummy import DummyRegressor\n",
    "from sklearn.ensemble import ExtraTreesRegressor, HistGradientBoostingRegressor, RandomForestRegressor\n",
    "from sklearn.impute import SimpleImputer\n",
    "from sklearn.linear_model import LinearRegression, RANSACRegressor, RidgeCV\n",
    "from sklearn.model_selection import train_test_split, GridSearchCV\n",
    "from sklearn.pipeline import make_pipeline, Pipeline\n",
    "from sklearn.preprocessing import OneHotEncoder, StandardScaler"
   ]
  },
  {
   "cell_type": "code",
   "execution_count": 142,
   "id": "97501f5d-326d-4750-b512-c06d0112d339",
   "metadata": {
    "execution": {
     "iopub.execute_input": "2024-02-21T06:54:52.916424Z",
     "iopub.status.busy": "2024-02-21T06:54:52.915424Z",
     "iopub.status.idle": "2024-02-21T06:54:52.930424Z",
     "shell.execute_reply": "2024-02-21T06:54:52.930424Z",
     "shell.execute_reply.started": "2024-02-21T06:54:52.916424Z"
    }
   },
   "outputs": [],
   "source": [
    "from sklearn import set_config"
   ]
  },
  {
   "cell_type": "code",
   "execution_count": 143,
   "id": "e020c481-c0b5-478a-bdf2-27657493aa52",
   "metadata": {
    "execution": {
     "iopub.execute_input": "2024-02-21T06:54:52.932425Z",
     "iopub.status.busy": "2024-02-21T06:54:52.931424Z",
     "iopub.status.idle": "2024-02-21T06:54:52.945618Z",
     "shell.execute_reply": "2024-02-21T06:54:52.945618Z",
     "shell.execute_reply.started": "2024-02-21T06:54:52.932425Z"
    }
   },
   "outputs": [],
   "source": [
    "set_config(transform_output='pandas')"
   ]
  },
  {
   "cell_type": "code",
   "execution_count": 144,
   "id": "a073263b-ef18-47fc-98d4-3bad33d539ad",
   "metadata": {
    "execution": {
     "iopub.execute_input": "2024-02-21T06:54:52.947607Z",
     "iopub.status.busy": "2024-02-21T06:54:52.947607Z",
     "iopub.status.idle": "2024-02-21T06:54:53.020201Z",
     "shell.execute_reply": "2024-02-21T06:54:53.020201Z",
     "shell.execute_reply.started": "2024-02-21T06:54:52.947607Z"
    }
   },
   "outputs": [
    {
     "data": {
      "text/html": [
       "<div>\n",
       "<style scoped>\n",
       "    .dataframe tbody tr th:only-of-type {\n",
       "        vertical-align: middle;\n",
       "    }\n",
       "\n",
       "    .dataframe tbody tr th {\n",
       "        vertical-align: top;\n",
       "    }\n",
       "\n",
       "    .dataframe thead th {\n",
       "        text-align: right;\n",
       "    }\n",
       "</style>\n",
       "<table border=\"1\" class=\"dataframe\">\n",
       "  <thead>\n",
       "    <tr style=\"text-align: right;\">\n",
       "      <th></th>\n",
       "      <th>id</th>\n",
       "      <th>date</th>\n",
       "      <th>price</th>\n",
       "      <th>bedrooms</th>\n",
       "      <th>bathrooms</th>\n",
       "      <th>sqft_living</th>\n",
       "      <th>sqft_lot</th>\n",
       "      <th>floors</th>\n",
       "      <th>waterfront</th>\n",
       "      <th>view</th>\n",
       "      <th>...</th>\n",
       "      <th>grade</th>\n",
       "      <th>sqft_above</th>\n",
       "      <th>sqft_basement</th>\n",
       "      <th>yr_built</th>\n",
       "      <th>yr_renovated</th>\n",
       "      <th>zipcode</th>\n",
       "      <th>lat</th>\n",
       "      <th>long</th>\n",
       "      <th>sqft_living15</th>\n",
       "      <th>sqft_lot15</th>\n",
       "    </tr>\n",
       "  </thead>\n",
       "  <tbody>\n",
       "    <tr>\n",
       "      <th>0</th>\n",
       "      <td>7129300520</td>\n",
       "      <td>20141013T000000</td>\n",
       "      <td>221900.0</td>\n",
       "      <td>3</td>\n",
       "      <td>1.00</td>\n",
       "      <td>1180</td>\n",
       "      <td>5650</td>\n",
       "      <td>1.0</td>\n",
       "      <td>0</td>\n",
       "      <td>0</td>\n",
       "      <td>...</td>\n",
       "      <td>7</td>\n",
       "      <td>1180</td>\n",
       "      <td>0</td>\n",
       "      <td>1955</td>\n",
       "      <td>0</td>\n",
       "      <td>98178</td>\n",
       "      <td>47.5112</td>\n",
       "      <td>-122.257</td>\n",
       "      <td>1340</td>\n",
       "      <td>5650</td>\n",
       "    </tr>\n",
       "    <tr>\n",
       "      <th>1</th>\n",
       "      <td>6414100192</td>\n",
       "      <td>20141209T000000</td>\n",
       "      <td>538000.0</td>\n",
       "      <td>3</td>\n",
       "      <td>2.25</td>\n",
       "      <td>2570</td>\n",
       "      <td>7242</td>\n",
       "      <td>2.0</td>\n",
       "      <td>0</td>\n",
       "      <td>0</td>\n",
       "      <td>...</td>\n",
       "      <td>7</td>\n",
       "      <td>2170</td>\n",
       "      <td>400</td>\n",
       "      <td>1951</td>\n",
       "      <td>1991</td>\n",
       "      <td>98125</td>\n",
       "      <td>47.7210</td>\n",
       "      <td>-122.319</td>\n",
       "      <td>1690</td>\n",
       "      <td>7639</td>\n",
       "    </tr>\n",
       "    <tr>\n",
       "      <th>2</th>\n",
       "      <td>5631500400</td>\n",
       "      <td>20150225T000000</td>\n",
       "      <td>180000.0</td>\n",
       "      <td>2</td>\n",
       "      <td>1.00</td>\n",
       "      <td>770</td>\n",
       "      <td>10000</td>\n",
       "      <td>1.0</td>\n",
       "      <td>0</td>\n",
       "      <td>0</td>\n",
       "      <td>...</td>\n",
       "      <td>6</td>\n",
       "      <td>770</td>\n",
       "      <td>0</td>\n",
       "      <td>1933</td>\n",
       "      <td>0</td>\n",
       "      <td>98028</td>\n",
       "      <td>47.7379</td>\n",
       "      <td>-122.233</td>\n",
       "      <td>2720</td>\n",
       "      <td>8062</td>\n",
       "    </tr>\n",
       "    <tr>\n",
       "      <th>3</th>\n",
       "      <td>2487200875</td>\n",
       "      <td>20141209T000000</td>\n",
       "      <td>604000.0</td>\n",
       "      <td>4</td>\n",
       "      <td>3.00</td>\n",
       "      <td>1960</td>\n",
       "      <td>5000</td>\n",
       "      <td>1.0</td>\n",
       "      <td>0</td>\n",
       "      <td>0</td>\n",
       "      <td>...</td>\n",
       "      <td>7</td>\n",
       "      <td>1050</td>\n",
       "      <td>910</td>\n",
       "      <td>1965</td>\n",
       "      <td>0</td>\n",
       "      <td>98136</td>\n",
       "      <td>47.5208</td>\n",
       "      <td>-122.393</td>\n",
       "      <td>1360</td>\n",
       "      <td>5000</td>\n",
       "    </tr>\n",
       "    <tr>\n",
       "      <th>4</th>\n",
       "      <td>1954400510</td>\n",
       "      <td>20150218T000000</td>\n",
       "      <td>510000.0</td>\n",
       "      <td>3</td>\n",
       "      <td>2.00</td>\n",
       "      <td>1680</td>\n",
       "      <td>8080</td>\n",
       "      <td>1.0</td>\n",
       "      <td>0</td>\n",
       "      <td>0</td>\n",
       "      <td>...</td>\n",
       "      <td>8</td>\n",
       "      <td>1680</td>\n",
       "      <td>0</td>\n",
       "      <td>1987</td>\n",
       "      <td>0</td>\n",
       "      <td>98074</td>\n",
       "      <td>47.6168</td>\n",
       "      <td>-122.045</td>\n",
       "      <td>1800</td>\n",
       "      <td>7503</td>\n",
       "    </tr>\n",
       "    <tr>\n",
       "      <th>...</th>\n",
       "      <td>...</td>\n",
       "      <td>...</td>\n",
       "      <td>...</td>\n",
       "      <td>...</td>\n",
       "      <td>...</td>\n",
       "      <td>...</td>\n",
       "      <td>...</td>\n",
       "      <td>...</td>\n",
       "      <td>...</td>\n",
       "      <td>...</td>\n",
       "      <td>...</td>\n",
       "      <td>...</td>\n",
       "      <td>...</td>\n",
       "      <td>...</td>\n",
       "      <td>...</td>\n",
       "      <td>...</td>\n",
       "      <td>...</td>\n",
       "      <td>...</td>\n",
       "      <td>...</td>\n",
       "      <td>...</td>\n",
       "      <td>...</td>\n",
       "    </tr>\n",
       "    <tr>\n",
       "      <th>21607</th>\n",
       "      <td>263000018</td>\n",
       "      <td>20140521T000000</td>\n",
       "      <td>360000.0</td>\n",
       "      <td>3</td>\n",
       "      <td>2.50</td>\n",
       "      <td>1530</td>\n",
       "      <td>1131</td>\n",
       "      <td>3.0</td>\n",
       "      <td>0</td>\n",
       "      <td>0</td>\n",
       "      <td>...</td>\n",
       "      <td>8</td>\n",
       "      <td>1530</td>\n",
       "      <td>0</td>\n",
       "      <td>2009</td>\n",
       "      <td>0</td>\n",
       "      <td>98103</td>\n",
       "      <td>47.6993</td>\n",
       "      <td>-122.346</td>\n",
       "      <td>1530</td>\n",
       "      <td>1509</td>\n",
       "    </tr>\n",
       "    <tr>\n",
       "      <th>21608</th>\n",
       "      <td>6600060120</td>\n",
       "      <td>20150223T000000</td>\n",
       "      <td>400000.0</td>\n",
       "      <td>4</td>\n",
       "      <td>2.50</td>\n",
       "      <td>2310</td>\n",
       "      <td>5813</td>\n",
       "      <td>2.0</td>\n",
       "      <td>0</td>\n",
       "      <td>0</td>\n",
       "      <td>...</td>\n",
       "      <td>8</td>\n",
       "      <td>2310</td>\n",
       "      <td>0</td>\n",
       "      <td>2014</td>\n",
       "      <td>0</td>\n",
       "      <td>98146</td>\n",
       "      <td>47.5107</td>\n",
       "      <td>-122.362</td>\n",
       "      <td>1830</td>\n",
       "      <td>7200</td>\n",
       "    </tr>\n",
       "    <tr>\n",
       "      <th>21609</th>\n",
       "      <td>1523300141</td>\n",
       "      <td>20140623T000000</td>\n",
       "      <td>402101.0</td>\n",
       "      <td>2</td>\n",
       "      <td>0.75</td>\n",
       "      <td>1020</td>\n",
       "      <td>1350</td>\n",
       "      <td>2.0</td>\n",
       "      <td>0</td>\n",
       "      <td>0</td>\n",
       "      <td>...</td>\n",
       "      <td>7</td>\n",
       "      <td>1020</td>\n",
       "      <td>0</td>\n",
       "      <td>2009</td>\n",
       "      <td>0</td>\n",
       "      <td>98144</td>\n",
       "      <td>47.5944</td>\n",
       "      <td>-122.299</td>\n",
       "      <td>1020</td>\n",
       "      <td>2007</td>\n",
       "    </tr>\n",
       "    <tr>\n",
       "      <th>21610</th>\n",
       "      <td>291310100</td>\n",
       "      <td>20150116T000000</td>\n",
       "      <td>400000.0</td>\n",
       "      <td>3</td>\n",
       "      <td>2.50</td>\n",
       "      <td>1600</td>\n",
       "      <td>2388</td>\n",
       "      <td>2.0</td>\n",
       "      <td>0</td>\n",
       "      <td>0</td>\n",
       "      <td>...</td>\n",
       "      <td>8</td>\n",
       "      <td>1600</td>\n",
       "      <td>0</td>\n",
       "      <td>2004</td>\n",
       "      <td>0</td>\n",
       "      <td>98027</td>\n",
       "      <td>47.5345</td>\n",
       "      <td>-122.069</td>\n",
       "      <td>1410</td>\n",
       "      <td>1287</td>\n",
       "    </tr>\n",
       "    <tr>\n",
       "      <th>21611</th>\n",
       "      <td>1523300157</td>\n",
       "      <td>20141015T000000</td>\n",
       "      <td>325000.0</td>\n",
       "      <td>2</td>\n",
       "      <td>0.75</td>\n",
       "      <td>1020</td>\n",
       "      <td>1076</td>\n",
       "      <td>2.0</td>\n",
       "      <td>0</td>\n",
       "      <td>0</td>\n",
       "      <td>...</td>\n",
       "      <td>7</td>\n",
       "      <td>1020</td>\n",
       "      <td>0</td>\n",
       "      <td>2008</td>\n",
       "      <td>0</td>\n",
       "      <td>98144</td>\n",
       "      <td>47.5941</td>\n",
       "      <td>-122.299</td>\n",
       "      <td>1020</td>\n",
       "      <td>1357</td>\n",
       "    </tr>\n",
       "  </tbody>\n",
       "</table>\n",
       "<p>21612 rows × 21 columns</p>\n",
       "</div>"
      ],
      "text/plain": [
       "               id             date     price  bedrooms  bathrooms  \\\n",
       "0      7129300520  20141013T000000  221900.0         3       1.00   \n",
       "1      6414100192  20141209T000000  538000.0         3       2.25   \n",
       "2      5631500400  20150225T000000  180000.0         2       1.00   \n",
       "3      2487200875  20141209T000000  604000.0         4       3.00   \n",
       "4      1954400510  20150218T000000  510000.0         3       2.00   \n",
       "...           ...              ...       ...       ...        ...   \n",
       "21607   263000018  20140521T000000  360000.0         3       2.50   \n",
       "21608  6600060120  20150223T000000  400000.0         4       2.50   \n",
       "21609  1523300141  20140623T000000  402101.0         2       0.75   \n",
       "21610   291310100  20150116T000000  400000.0         3       2.50   \n",
       "21611  1523300157  20141015T000000  325000.0         2       0.75   \n",
       "\n",
       "       sqft_living  sqft_lot  floors  waterfront  view  ...  grade  \\\n",
       "0             1180      5650     1.0           0     0  ...      7   \n",
       "1             2570      7242     2.0           0     0  ...      7   \n",
       "2              770     10000     1.0           0     0  ...      6   \n",
       "3             1960      5000     1.0           0     0  ...      7   \n",
       "4             1680      8080     1.0           0     0  ...      8   \n",
       "...            ...       ...     ...         ...   ...  ...    ...   \n",
       "21607         1530      1131     3.0           0     0  ...      8   \n",
       "21608         2310      5813     2.0           0     0  ...      8   \n",
       "21609         1020      1350     2.0           0     0  ...      7   \n",
       "21610         1600      2388     2.0           0     0  ...      8   \n",
       "21611         1020      1076     2.0           0     0  ...      7   \n",
       "\n",
       "       sqft_above  sqft_basement  yr_built  yr_renovated  zipcode      lat  \\\n",
       "0            1180              0      1955             0    98178  47.5112   \n",
       "1            2170            400      1951          1991    98125  47.7210   \n",
       "2             770              0      1933             0    98028  47.7379   \n",
       "3            1050            910      1965             0    98136  47.5208   \n",
       "4            1680              0      1987             0    98074  47.6168   \n",
       "...           ...            ...       ...           ...      ...      ...   \n",
       "21607        1530              0      2009             0    98103  47.6993   \n",
       "21608        2310              0      2014             0    98146  47.5107   \n",
       "21609        1020              0      2009             0    98144  47.5944   \n",
       "21610        1600              0      2004             0    98027  47.5345   \n",
       "21611        1020              0      2008             0    98144  47.5941   \n",
       "\n",
       "          long  sqft_living15  sqft_lot15  \n",
       "0     -122.257           1340        5650  \n",
       "1     -122.319           1690        7639  \n",
       "2     -122.233           2720        8062  \n",
       "3     -122.393           1360        5000  \n",
       "4     -122.045           1800        7503  \n",
       "...        ...            ...         ...  \n",
       "21607 -122.346           1530        1509  \n",
       "21608 -122.362           1830        7200  \n",
       "21609 -122.299           1020        2007  \n",
       "21610 -122.069           1410        1287  \n",
       "21611 -122.299           1020        1357  \n",
       "\n",
       "[21612 rows x 21 columns]"
      ]
     },
     "execution_count": 144,
     "metadata": {},
     "output_type": "execute_result"
    }
   ],
   "source": [
    "filepath = './data/kc_house_data.csv'\n",
    "\n",
    "source_data = pd.read_csv(filepath)\n",
    "\n",
    "source_data"
   ]
  },
  {
   "cell_type": "code",
   "execution_count": 145,
   "id": "446f6ebe-6c65-43bd-82a0-12e17bec89f5",
   "metadata": {
    "execution": {
     "iopub.execute_input": "2024-02-21T06:54:53.022256Z",
     "iopub.status.busy": "2024-02-21T06:54:53.022256Z",
     "iopub.status.idle": "2024-02-21T06:54:53.036356Z",
     "shell.execute_reply": "2024-02-21T06:54:53.035357Z",
     "shell.execute_reply.started": "2024-02-21T06:54:53.022256Z"
    },
    "scrolled": true
   },
   "outputs": [
    {
     "name": "stdout",
     "output_type": "stream",
     "text": [
      "<class 'pandas.core.frame.DataFrame'>\n",
      "RangeIndex: 21612 entries, 0 to 21611\n",
      "Data columns (total 21 columns):\n",
      " #   Column         Non-Null Count  Dtype  \n",
      "---  ------         --------------  -----  \n",
      " 0   id             21612 non-null  int64  \n",
      " 1   date           21612 non-null  object \n",
      " 2   price          21612 non-null  float64\n",
      " 3   bedrooms       21612 non-null  int64  \n",
      " 4   bathrooms      21612 non-null  float64\n",
      " 5   sqft_living    21612 non-null  int64  \n",
      " 6   sqft_lot       21612 non-null  int64  \n",
      " 7   floors         21612 non-null  float64\n",
      " 8   waterfront     21612 non-null  int64  \n",
      " 9   view           21612 non-null  int64  \n",
      " 10  condition      21612 non-null  int64  \n",
      " 11  grade          21612 non-null  int64  \n",
      " 12  sqft_above     21612 non-null  int64  \n",
      " 13  sqft_basement  21612 non-null  int64  \n",
      " 14  yr_built       21612 non-null  int64  \n",
      " 15  yr_renovated   21612 non-null  int64  \n",
      " 16  zipcode        21612 non-null  int64  \n",
      " 17  lat            21612 non-null  float64\n",
      " 18  long           21612 non-null  float64\n",
      " 19  sqft_living15  21612 non-null  int64  \n",
      " 20  sqft_lot15     21612 non-null  int64  \n",
      "dtypes: float64(5), int64(15), object(1)\n",
      "memory usage: 3.5+ MB\n"
     ]
    }
   ],
   "source": [
    "source_data.info()"
   ]
  },
  {
   "cell_type": "code",
   "execution_count": 146,
   "id": "e7731f26-8676-4cbe-a3ff-ce404e3ee76f",
   "metadata": {
    "execution": {
     "iopub.execute_input": "2024-02-21T06:54:53.037357Z",
     "iopub.status.busy": "2024-02-21T06:54:53.037357Z",
     "iopub.status.idle": "2024-02-21T06:54:53.050521Z",
     "shell.execute_reply": "2024-02-21T06:54:53.050521Z",
     "shell.execute_reply.started": "2024-02-21T06:54:53.037357Z"
    }
   },
   "outputs": [
    {
     "data": {
      "text/html": [
       "<div>\n",
       "<style scoped>\n",
       "    .dataframe tbody tr th:only-of-type {\n",
       "        vertical-align: middle;\n",
       "    }\n",
       "\n",
       "    .dataframe tbody tr th {\n",
       "        vertical-align: top;\n",
       "    }\n",
       "\n",
       "    .dataframe thead th {\n",
       "        text-align: right;\n",
       "    }\n",
       "</style>\n",
       "<table border=\"1\" class=\"dataframe\">\n",
       "  <thead>\n",
       "    <tr style=\"text-align: right;\">\n",
       "      <th></th>\n",
       "      <th>0</th>\n",
       "      <th>1</th>\n",
       "      <th>2</th>\n",
       "      <th>3</th>\n",
       "      <th>4</th>\n",
       "    </tr>\n",
       "  </thead>\n",
       "  <tbody>\n",
       "    <tr>\n",
       "      <th>id</th>\n",
       "      <td>7129300520</td>\n",
       "      <td>6414100192</td>\n",
       "      <td>5631500400</td>\n",
       "      <td>2487200875</td>\n",
       "      <td>1954400510</td>\n",
       "    </tr>\n",
       "    <tr>\n",
       "      <th>date</th>\n",
       "      <td>20141013T000000</td>\n",
       "      <td>20141209T000000</td>\n",
       "      <td>20150225T000000</td>\n",
       "      <td>20141209T000000</td>\n",
       "      <td>20150218T000000</td>\n",
       "    </tr>\n",
       "    <tr>\n",
       "      <th>price</th>\n",
       "      <td>221900.0</td>\n",
       "      <td>538000.0</td>\n",
       "      <td>180000.0</td>\n",
       "      <td>604000.0</td>\n",
       "      <td>510000.0</td>\n",
       "    </tr>\n",
       "    <tr>\n",
       "      <th>bedrooms</th>\n",
       "      <td>3</td>\n",
       "      <td>3</td>\n",
       "      <td>2</td>\n",
       "      <td>4</td>\n",
       "      <td>3</td>\n",
       "    </tr>\n",
       "    <tr>\n",
       "      <th>bathrooms</th>\n",
       "      <td>1.0</td>\n",
       "      <td>2.25</td>\n",
       "      <td>1.0</td>\n",
       "      <td>3.0</td>\n",
       "      <td>2.0</td>\n",
       "    </tr>\n",
       "    <tr>\n",
       "      <th>sqft_living</th>\n",
       "      <td>1180</td>\n",
       "      <td>2570</td>\n",
       "      <td>770</td>\n",
       "      <td>1960</td>\n",
       "      <td>1680</td>\n",
       "    </tr>\n",
       "    <tr>\n",
       "      <th>sqft_lot</th>\n",
       "      <td>5650</td>\n",
       "      <td>7242</td>\n",
       "      <td>10000</td>\n",
       "      <td>5000</td>\n",
       "      <td>8080</td>\n",
       "    </tr>\n",
       "    <tr>\n",
       "      <th>floors</th>\n",
       "      <td>1.0</td>\n",
       "      <td>2.0</td>\n",
       "      <td>1.0</td>\n",
       "      <td>1.0</td>\n",
       "      <td>1.0</td>\n",
       "    </tr>\n",
       "    <tr>\n",
       "      <th>waterfront</th>\n",
       "      <td>0</td>\n",
       "      <td>0</td>\n",
       "      <td>0</td>\n",
       "      <td>0</td>\n",
       "      <td>0</td>\n",
       "    </tr>\n",
       "    <tr>\n",
       "      <th>view</th>\n",
       "      <td>0</td>\n",
       "      <td>0</td>\n",
       "      <td>0</td>\n",
       "      <td>0</td>\n",
       "      <td>0</td>\n",
       "    </tr>\n",
       "    <tr>\n",
       "      <th>condition</th>\n",
       "      <td>3</td>\n",
       "      <td>3</td>\n",
       "      <td>3</td>\n",
       "      <td>5</td>\n",
       "      <td>3</td>\n",
       "    </tr>\n",
       "    <tr>\n",
       "      <th>grade</th>\n",
       "      <td>7</td>\n",
       "      <td>7</td>\n",
       "      <td>6</td>\n",
       "      <td>7</td>\n",
       "      <td>8</td>\n",
       "    </tr>\n",
       "    <tr>\n",
       "      <th>sqft_above</th>\n",
       "      <td>1180</td>\n",
       "      <td>2170</td>\n",
       "      <td>770</td>\n",
       "      <td>1050</td>\n",
       "      <td>1680</td>\n",
       "    </tr>\n",
       "    <tr>\n",
       "      <th>sqft_basement</th>\n",
       "      <td>0</td>\n",
       "      <td>400</td>\n",
       "      <td>0</td>\n",
       "      <td>910</td>\n",
       "      <td>0</td>\n",
       "    </tr>\n",
       "    <tr>\n",
       "      <th>yr_built</th>\n",
       "      <td>1955</td>\n",
       "      <td>1951</td>\n",
       "      <td>1933</td>\n",
       "      <td>1965</td>\n",
       "      <td>1987</td>\n",
       "    </tr>\n",
       "    <tr>\n",
       "      <th>yr_renovated</th>\n",
       "      <td>0</td>\n",
       "      <td>1991</td>\n",
       "      <td>0</td>\n",
       "      <td>0</td>\n",
       "      <td>0</td>\n",
       "    </tr>\n",
       "    <tr>\n",
       "      <th>zipcode</th>\n",
       "      <td>98178</td>\n",
       "      <td>98125</td>\n",
       "      <td>98028</td>\n",
       "      <td>98136</td>\n",
       "      <td>98074</td>\n",
       "    </tr>\n",
       "    <tr>\n",
       "      <th>lat</th>\n",
       "      <td>47.5112</td>\n",
       "      <td>47.721</td>\n",
       "      <td>47.7379</td>\n",
       "      <td>47.5208</td>\n",
       "      <td>47.6168</td>\n",
       "    </tr>\n",
       "    <tr>\n",
       "      <th>long</th>\n",
       "      <td>-122.257</td>\n",
       "      <td>-122.319</td>\n",
       "      <td>-122.233</td>\n",
       "      <td>-122.393</td>\n",
       "      <td>-122.045</td>\n",
       "    </tr>\n",
       "    <tr>\n",
       "      <th>sqft_living15</th>\n",
       "      <td>1340</td>\n",
       "      <td>1690</td>\n",
       "      <td>2720</td>\n",
       "      <td>1360</td>\n",
       "      <td>1800</td>\n",
       "    </tr>\n",
       "    <tr>\n",
       "      <th>sqft_lot15</th>\n",
       "      <td>5650</td>\n",
       "      <td>7639</td>\n",
       "      <td>8062</td>\n",
       "      <td>5000</td>\n",
       "      <td>7503</td>\n",
       "    </tr>\n",
       "  </tbody>\n",
       "</table>\n",
       "</div>"
      ],
      "text/plain": [
       "                             0                1                2  \\\n",
       "id                  7129300520       6414100192       5631500400   \n",
       "date           20141013T000000  20141209T000000  20150225T000000   \n",
       "price                 221900.0         538000.0         180000.0   \n",
       "bedrooms                     3                3                2   \n",
       "bathrooms                  1.0             2.25              1.0   \n",
       "sqft_living               1180             2570              770   \n",
       "sqft_lot                  5650             7242            10000   \n",
       "floors                     1.0              2.0              1.0   \n",
       "waterfront                   0                0                0   \n",
       "view                         0                0                0   \n",
       "condition                    3                3                3   \n",
       "grade                        7                7                6   \n",
       "sqft_above                1180             2170              770   \n",
       "sqft_basement                0              400                0   \n",
       "yr_built                  1955             1951             1933   \n",
       "yr_renovated                 0             1991                0   \n",
       "zipcode                  98178            98125            98028   \n",
       "lat                    47.5112           47.721          47.7379   \n",
       "long                  -122.257         -122.319         -122.233   \n",
       "sqft_living15             1340             1690             2720   \n",
       "sqft_lot15                5650             7639             8062   \n",
       "\n",
       "                             3                4  \n",
       "id                  2487200875       1954400510  \n",
       "date           20141209T000000  20150218T000000  \n",
       "price                 604000.0         510000.0  \n",
       "bedrooms                     4                3  \n",
       "bathrooms                  3.0              2.0  \n",
       "sqft_living               1960             1680  \n",
       "sqft_lot                  5000             8080  \n",
       "floors                     1.0              1.0  \n",
       "waterfront                   0                0  \n",
       "view                         0                0  \n",
       "condition                    5                3  \n",
       "grade                        7                8  \n",
       "sqft_above                1050             1680  \n",
       "sqft_basement              910                0  \n",
       "yr_built                  1965             1987  \n",
       "yr_renovated                 0                0  \n",
       "zipcode                  98136            98074  \n",
       "lat                    47.5208          47.6168  \n",
       "long                  -122.393         -122.045  \n",
       "sqft_living15             1360             1800  \n",
       "sqft_lot15                5000             7503  "
      ]
     },
     "execution_count": 146,
     "metadata": {},
     "output_type": "execute_result"
    }
   ],
   "source": [
    "source_data.head().T"
   ]
  },
  {
   "attachments": {},
   "cell_type": "markdown",
   "id": "0fc30aad-f97a-473d-9e91-ee0a60f8cd50",
   "metadata": {},
   "source": [
    "---\n",
    "\n",
    "**Quick Notes:**\n",
    "\n",
    "> * `id`, `date`, `zipcode` are categoricals; need to convert\n",
    "> * All other features numeric\n",
    "\n",
    "\n",
    "---\n",
    "\n",
    "***UPDATED NOTES:***\n",
    "\n",
    "Considering the zip code, date, and ID values are either non-informative (ID, Date) or are more easily represented by other features (zip code), I will drop those features from the analysis.\n",
    "\n",
    "---"
   ]
  },
  {
   "cell_type": "code",
   "execution_count": 147,
   "id": "cbac5b65-8ca4-4c70-987e-2b3102ae35f9",
   "metadata": {
    "execution": {
     "iopub.execute_input": "2024-02-21T06:54:53.052523Z",
     "iopub.status.busy": "2024-02-21T06:54:53.051521Z",
     "iopub.status.idle": "2024-02-21T06:54:53.062953Z",
     "shell.execute_reply": "2024-02-21T06:54:53.062680Z",
     "shell.execute_reply.started": "2024-02-21T06:54:53.052523Z"
    }
   },
   "outputs": [],
   "source": [
    "# data.loc[:,['id', 'zipcode']] = data.loc[:,['id', 'zipcode']].astype('category')\n",
    "# data.loc[:,['id', 'zipcode']]"
   ]
  },
  {
   "cell_type": "code",
   "execution_count": 148,
   "id": "754b25a1-e477-483f-a9c4-543995d2e8bc",
   "metadata": {
    "execution": {
     "iopub.execute_input": "2024-02-21T06:54:53.062953Z",
     "iopub.status.busy": "2024-02-21T06:54:53.062953Z",
     "iopub.status.idle": "2024-02-21T06:54:53.083895Z",
     "shell.execute_reply": "2024-02-21T06:54:53.083368Z",
     "shell.execute_reply.started": "2024-02-21T06:54:53.062953Z"
    }
   },
   "outputs": [],
   "source": [
    "# data.loc[:,['id', 'zipcode']].dtypes"
   ]
  },
  {
   "cell_type": "code",
   "execution_count": 149,
   "id": "fdb9e24d-461d-44c0-a111-4b2e468a03d2",
   "metadata": {
    "execution": {
     "iopub.execute_input": "2024-02-21T06:54:53.084930Z",
     "iopub.status.busy": "2024-02-21T06:54:53.084930Z",
     "iopub.status.idle": "2024-02-21T06:54:53.090736Z",
     "shell.execute_reply": "2024-02-21T06:54:53.090646Z",
     "shell.execute_reply.started": "2024-02-21T06:54:53.084930Z"
    }
   },
   "outputs": [],
   "source": [
    "# data['zipcode'].value_counts(dropna=False, normalize=False, ascending=False)"
   ]
  },
  {
   "cell_type": "code",
   "execution_count": 150,
   "id": "381fdb19-11e9-4aaa-bb99-08d0d752b180",
   "metadata": {
    "execution": {
     "iopub.execute_input": "2024-02-21T06:54:53.092739Z",
     "iopub.status.busy": "2024-02-21T06:54:53.091738Z",
     "iopub.status.idle": "2024-02-21T06:54:53.115523Z",
     "shell.execute_reply": "2024-02-21T06:54:53.115523Z",
     "shell.execute_reply.started": "2024-02-21T06:54:53.092739Z"
    }
   },
   "outputs": [
    {
     "data": {
      "text/html": [
       "<div>\n",
       "<style scoped>\n",
       "    .dataframe tbody tr th:only-of-type {\n",
       "        vertical-align: middle;\n",
       "    }\n",
       "\n",
       "    .dataframe tbody tr th {\n",
       "        vertical-align: top;\n",
       "    }\n",
       "\n",
       "    .dataframe thead th {\n",
       "        text-align: right;\n",
       "    }\n",
       "</style>\n",
       "<table border=\"1\" class=\"dataframe\">\n",
       "  <thead>\n",
       "    <tr style=\"text-align: right;\">\n",
       "      <th></th>\n",
       "      <th>price</th>\n",
       "      <th>bedrooms</th>\n",
       "      <th>bathrooms</th>\n",
       "      <th>sqft_living</th>\n",
       "      <th>sqft_lot</th>\n",
       "      <th>floors</th>\n",
       "      <th>waterfront</th>\n",
       "      <th>view</th>\n",
       "      <th>condition</th>\n",
       "      <th>grade</th>\n",
       "      <th>sqft_above</th>\n",
       "      <th>sqft_basement</th>\n",
       "      <th>yr_built</th>\n",
       "      <th>yr_renovated</th>\n",
       "      <th>lat</th>\n",
       "      <th>long</th>\n",
       "      <th>sqft_living15</th>\n",
       "      <th>sqft_lot15</th>\n",
       "    </tr>\n",
       "  </thead>\n",
       "  <tbody>\n",
       "    <tr>\n",
       "      <th>0</th>\n",
       "      <td>221900.0</td>\n",
       "      <td>3</td>\n",
       "      <td>1.00</td>\n",
       "      <td>1180</td>\n",
       "      <td>5650</td>\n",
       "      <td>1.0</td>\n",
       "      <td>0</td>\n",
       "      <td>0</td>\n",
       "      <td>3</td>\n",
       "      <td>7</td>\n",
       "      <td>1180</td>\n",
       "      <td>0</td>\n",
       "      <td>1955</td>\n",
       "      <td>0</td>\n",
       "      <td>47.5112</td>\n",
       "      <td>-122.257</td>\n",
       "      <td>1340</td>\n",
       "      <td>5650</td>\n",
       "    </tr>\n",
       "    <tr>\n",
       "      <th>1</th>\n",
       "      <td>538000.0</td>\n",
       "      <td>3</td>\n",
       "      <td>2.25</td>\n",
       "      <td>2570</td>\n",
       "      <td>7242</td>\n",
       "      <td>2.0</td>\n",
       "      <td>0</td>\n",
       "      <td>0</td>\n",
       "      <td>3</td>\n",
       "      <td>7</td>\n",
       "      <td>2170</td>\n",
       "      <td>400</td>\n",
       "      <td>1951</td>\n",
       "      <td>1991</td>\n",
       "      <td>47.7210</td>\n",
       "      <td>-122.319</td>\n",
       "      <td>1690</td>\n",
       "      <td>7639</td>\n",
       "    </tr>\n",
       "    <tr>\n",
       "      <th>2</th>\n",
       "      <td>180000.0</td>\n",
       "      <td>2</td>\n",
       "      <td>1.00</td>\n",
       "      <td>770</td>\n",
       "      <td>10000</td>\n",
       "      <td>1.0</td>\n",
       "      <td>0</td>\n",
       "      <td>0</td>\n",
       "      <td>3</td>\n",
       "      <td>6</td>\n",
       "      <td>770</td>\n",
       "      <td>0</td>\n",
       "      <td>1933</td>\n",
       "      <td>0</td>\n",
       "      <td>47.7379</td>\n",
       "      <td>-122.233</td>\n",
       "      <td>2720</td>\n",
       "      <td>8062</td>\n",
       "    </tr>\n",
       "    <tr>\n",
       "      <th>3</th>\n",
       "      <td>604000.0</td>\n",
       "      <td>4</td>\n",
       "      <td>3.00</td>\n",
       "      <td>1960</td>\n",
       "      <td>5000</td>\n",
       "      <td>1.0</td>\n",
       "      <td>0</td>\n",
       "      <td>0</td>\n",
       "      <td>5</td>\n",
       "      <td>7</td>\n",
       "      <td>1050</td>\n",
       "      <td>910</td>\n",
       "      <td>1965</td>\n",
       "      <td>0</td>\n",
       "      <td>47.5208</td>\n",
       "      <td>-122.393</td>\n",
       "      <td>1360</td>\n",
       "      <td>5000</td>\n",
       "    </tr>\n",
       "    <tr>\n",
       "      <th>4</th>\n",
       "      <td>510000.0</td>\n",
       "      <td>3</td>\n",
       "      <td>2.00</td>\n",
       "      <td>1680</td>\n",
       "      <td>8080</td>\n",
       "      <td>1.0</td>\n",
       "      <td>0</td>\n",
       "      <td>0</td>\n",
       "      <td>3</td>\n",
       "      <td>8</td>\n",
       "      <td>1680</td>\n",
       "      <td>0</td>\n",
       "      <td>1987</td>\n",
       "      <td>0</td>\n",
       "      <td>47.6168</td>\n",
       "      <td>-122.045</td>\n",
       "      <td>1800</td>\n",
       "      <td>7503</td>\n",
       "    </tr>\n",
       "    <tr>\n",
       "      <th>...</th>\n",
       "      <td>...</td>\n",
       "      <td>...</td>\n",
       "      <td>...</td>\n",
       "      <td>...</td>\n",
       "      <td>...</td>\n",
       "      <td>...</td>\n",
       "      <td>...</td>\n",
       "      <td>...</td>\n",
       "      <td>...</td>\n",
       "      <td>...</td>\n",
       "      <td>...</td>\n",
       "      <td>...</td>\n",
       "      <td>...</td>\n",
       "      <td>...</td>\n",
       "      <td>...</td>\n",
       "      <td>...</td>\n",
       "      <td>...</td>\n",
       "      <td>...</td>\n",
       "    </tr>\n",
       "    <tr>\n",
       "      <th>21607</th>\n",
       "      <td>360000.0</td>\n",
       "      <td>3</td>\n",
       "      <td>2.50</td>\n",
       "      <td>1530</td>\n",
       "      <td>1131</td>\n",
       "      <td>3.0</td>\n",
       "      <td>0</td>\n",
       "      <td>0</td>\n",
       "      <td>3</td>\n",
       "      <td>8</td>\n",
       "      <td>1530</td>\n",
       "      <td>0</td>\n",
       "      <td>2009</td>\n",
       "      <td>0</td>\n",
       "      <td>47.6993</td>\n",
       "      <td>-122.346</td>\n",
       "      <td>1530</td>\n",
       "      <td>1509</td>\n",
       "    </tr>\n",
       "    <tr>\n",
       "      <th>21608</th>\n",
       "      <td>400000.0</td>\n",
       "      <td>4</td>\n",
       "      <td>2.50</td>\n",
       "      <td>2310</td>\n",
       "      <td>5813</td>\n",
       "      <td>2.0</td>\n",
       "      <td>0</td>\n",
       "      <td>0</td>\n",
       "      <td>3</td>\n",
       "      <td>8</td>\n",
       "      <td>2310</td>\n",
       "      <td>0</td>\n",
       "      <td>2014</td>\n",
       "      <td>0</td>\n",
       "      <td>47.5107</td>\n",
       "      <td>-122.362</td>\n",
       "      <td>1830</td>\n",
       "      <td>7200</td>\n",
       "    </tr>\n",
       "    <tr>\n",
       "      <th>21609</th>\n",
       "      <td>402101.0</td>\n",
       "      <td>2</td>\n",
       "      <td>0.75</td>\n",
       "      <td>1020</td>\n",
       "      <td>1350</td>\n",
       "      <td>2.0</td>\n",
       "      <td>0</td>\n",
       "      <td>0</td>\n",
       "      <td>3</td>\n",
       "      <td>7</td>\n",
       "      <td>1020</td>\n",
       "      <td>0</td>\n",
       "      <td>2009</td>\n",
       "      <td>0</td>\n",
       "      <td>47.5944</td>\n",
       "      <td>-122.299</td>\n",
       "      <td>1020</td>\n",
       "      <td>2007</td>\n",
       "    </tr>\n",
       "    <tr>\n",
       "      <th>21610</th>\n",
       "      <td>400000.0</td>\n",
       "      <td>3</td>\n",
       "      <td>2.50</td>\n",
       "      <td>1600</td>\n",
       "      <td>2388</td>\n",
       "      <td>2.0</td>\n",
       "      <td>0</td>\n",
       "      <td>0</td>\n",
       "      <td>3</td>\n",
       "      <td>8</td>\n",
       "      <td>1600</td>\n",
       "      <td>0</td>\n",
       "      <td>2004</td>\n",
       "      <td>0</td>\n",
       "      <td>47.5345</td>\n",
       "      <td>-122.069</td>\n",
       "      <td>1410</td>\n",
       "      <td>1287</td>\n",
       "    </tr>\n",
       "    <tr>\n",
       "      <th>21611</th>\n",
       "      <td>325000.0</td>\n",
       "      <td>2</td>\n",
       "      <td>0.75</td>\n",
       "      <td>1020</td>\n",
       "      <td>1076</td>\n",
       "      <td>2.0</td>\n",
       "      <td>0</td>\n",
       "      <td>0</td>\n",
       "      <td>3</td>\n",
       "      <td>7</td>\n",
       "      <td>1020</td>\n",
       "      <td>0</td>\n",
       "      <td>2008</td>\n",
       "      <td>0</td>\n",
       "      <td>47.5941</td>\n",
       "      <td>-122.299</td>\n",
       "      <td>1020</td>\n",
       "      <td>1357</td>\n",
       "    </tr>\n",
       "  </tbody>\n",
       "</table>\n",
       "<p>21612 rows × 18 columns</p>\n",
       "</div>"
      ],
      "text/plain": [
       "          price  bedrooms  bathrooms  sqft_living  sqft_lot  floors  \\\n",
       "0      221900.0         3       1.00         1180      5650     1.0   \n",
       "1      538000.0         3       2.25         2570      7242     2.0   \n",
       "2      180000.0         2       1.00          770     10000     1.0   \n",
       "3      604000.0         4       3.00         1960      5000     1.0   \n",
       "4      510000.0         3       2.00         1680      8080     1.0   \n",
       "...         ...       ...        ...          ...       ...     ...   \n",
       "21607  360000.0         3       2.50         1530      1131     3.0   \n",
       "21608  400000.0         4       2.50         2310      5813     2.0   \n",
       "21609  402101.0         2       0.75         1020      1350     2.0   \n",
       "21610  400000.0         3       2.50         1600      2388     2.0   \n",
       "21611  325000.0         2       0.75         1020      1076     2.0   \n",
       "\n",
       "       waterfront  view  condition  grade  sqft_above  sqft_basement  \\\n",
       "0               0     0          3      7        1180              0   \n",
       "1               0     0          3      7        2170            400   \n",
       "2               0     0          3      6         770              0   \n",
       "3               0     0          5      7        1050            910   \n",
       "4               0     0          3      8        1680              0   \n",
       "...           ...   ...        ...    ...         ...            ...   \n",
       "21607           0     0          3      8        1530              0   \n",
       "21608           0     0          3      8        2310              0   \n",
       "21609           0     0          3      7        1020              0   \n",
       "21610           0     0          3      8        1600              0   \n",
       "21611           0     0          3      7        1020              0   \n",
       "\n",
       "       yr_built  yr_renovated      lat     long  sqft_living15  sqft_lot15  \n",
       "0          1955             0  47.5112 -122.257           1340        5650  \n",
       "1          1951          1991  47.7210 -122.319           1690        7639  \n",
       "2          1933             0  47.7379 -122.233           2720        8062  \n",
       "3          1965             0  47.5208 -122.393           1360        5000  \n",
       "4          1987             0  47.6168 -122.045           1800        7503  \n",
       "...         ...           ...      ...      ...            ...         ...  \n",
       "21607      2009             0  47.6993 -122.346           1530        1509  \n",
       "21608      2014             0  47.5107 -122.362           1830        7200  \n",
       "21609      2009             0  47.5944 -122.299           1020        2007  \n",
       "21610      2004             0  47.5345 -122.069           1410        1287  \n",
       "21611      2008             0  47.5941 -122.299           1020        1357  \n",
       "\n",
       "[21612 rows x 18 columns]"
      ]
     },
     "execution_count": 150,
     "metadata": {},
     "output_type": "execute_result"
    }
   ],
   "source": [
    "drop_features = ['id', 'date', 'zipcode']\n",
    "\n",
    "# data_w_zips = data.drop(columns = ['id', 'date'])\n",
    "\n",
    "data = source_data.drop(columns = drop_features)\n",
    "data"
   ]
  },
  {
   "cell_type": "code",
   "execution_count": 151,
   "id": "44a48257-a8ee-482a-8cda-9d6c171b37a1",
   "metadata": {
    "execution": {
     "iopub.execute_input": "2024-02-21T06:54:53.115523Z",
     "iopub.status.busy": "2024-02-21T06:54:53.115523Z",
     "iopub.status.idle": "2024-02-21T06:54:53.143021Z",
     "shell.execute_reply": "2024-02-21T06:54:53.143021Z",
     "shell.execute_reply.started": "2024-02-21T06:54:53.115523Z"
    }
   },
   "outputs": [
    {
     "name": "stdout",
     "output_type": "stream",
     "text": [
      "<class 'pandas.core.frame.DataFrame'>\n",
      "RangeIndex: 21612 entries, 0 to 21611\n",
      "Data columns (total 18 columns):\n",
      " #   Column         Non-Null Count  Dtype  \n",
      "---  ------         --------------  -----  \n",
      " 0   price          21612 non-null  float64\n",
      " 1   bedrooms       21612 non-null  int64  \n",
      " 2   bathrooms      21612 non-null  float64\n",
      " 3   sqft_living    21612 non-null  int64  \n",
      " 4   sqft_lot       21612 non-null  int64  \n",
      " 5   floors         21612 non-null  float64\n",
      " 6   waterfront     21612 non-null  int64  \n",
      " 7   view           21612 non-null  int64  \n",
      " 8   condition      21612 non-null  int64  \n",
      " 9   grade          21612 non-null  int64  \n",
      " 10  sqft_above     21612 non-null  int64  \n",
      " 11  sqft_basement  21612 non-null  int64  \n",
      " 12  yr_built       21612 non-null  int64  \n",
      " 13  yr_renovated   21612 non-null  int64  \n",
      " 14  lat            21612 non-null  float64\n",
      " 15  long           21612 non-null  float64\n",
      " 16  sqft_living15  21612 non-null  int64  \n",
      " 17  sqft_lot15     21612 non-null  int64  \n",
      "dtypes: float64(5), int64(13)\n",
      "memory usage: 3.0 MB\n"
     ]
    }
   ],
   "source": [
    "data.info()"
   ]
  },
  {
   "cell_type": "markdown",
   "id": "f86a0145-8434-4d6c-a53c-c6867fe7dcfd",
   "metadata": {},
   "source": [
    "# Data Inspection"
   ]
  },
  {
   "cell_type": "code",
   "execution_count": 152,
   "id": "973f908f-c96d-4fe8-a545-58428f00e2ca",
   "metadata": {
    "execution": {
     "iopub.execute_input": "2024-02-21T06:54:53.145021Z",
     "iopub.status.busy": "2024-02-21T06:54:53.144022Z",
     "iopub.status.idle": "2024-02-21T06:54:53.150034Z",
     "shell.execute_reply": "2024-02-21T06:54:53.149947Z",
     "shell.execute_reply.started": "2024-02-21T06:54:53.145021Z"
    }
   },
   "outputs": [],
   "source": [
    "# # sns.displot(data = data, y= 'price')\n",
    "\n",
    "# sns.pairplot(data=data, corner = True);"
   ]
  },
  {
   "cell_type": "code",
   "execution_count": 153,
   "id": "4a971216-0a95-44c2-9db2-1b7f65f1f600",
   "metadata": {
    "execution": {
     "iopub.execute_input": "2024-02-21T06:54:53.153040Z",
     "iopub.status.busy": "2024-02-21T06:54:53.152039Z",
     "iopub.status.idle": "2024-02-21T06:54:53.204896Z",
     "shell.execute_reply": "2024-02-21T06:54:53.204896Z",
     "shell.execute_reply.started": "2024-02-21T06:54:53.153040Z"
    }
   },
   "outputs": [
    {
     "data": {
      "text/html": [
       "<div>\n",
       "<style scoped>\n",
       "    .dataframe tbody tr th:only-of-type {\n",
       "        vertical-align: middle;\n",
       "    }\n",
       "\n",
       "    .dataframe tbody tr th {\n",
       "        vertical-align: top;\n",
       "    }\n",
       "\n",
       "    .dataframe thead th {\n",
       "        text-align: right;\n",
       "    }\n",
       "</style>\n",
       "<table border=\"1\" class=\"dataframe\">\n",
       "  <thead>\n",
       "    <tr style=\"text-align: right;\">\n",
       "      <th></th>\n",
       "      <th>count</th>\n",
       "      <th>mean</th>\n",
       "      <th>std</th>\n",
       "      <th>min</th>\n",
       "      <th>25%</th>\n",
       "      <th>50%</th>\n",
       "      <th>75%</th>\n",
       "      <th>max</th>\n",
       "    </tr>\n",
       "  </thead>\n",
       "  <tbody>\n",
       "    <tr>\n",
       "      <th>price</th>\n",
       "      <td>21612.0</td>\n",
       "      <td>540098.79</td>\n",
       "      <td>367132.35</td>\n",
       "      <td>75000.00</td>\n",
       "      <td>321987.50</td>\n",
       "      <td>450000.00</td>\n",
       "      <td>645000.00</td>\n",
       "      <td>7700000.00</td>\n",
       "    </tr>\n",
       "    <tr>\n",
       "      <th>bedrooms</th>\n",
       "      <td>21612.0</td>\n",
       "      <td>3.37</td>\n",
       "      <td>0.93</td>\n",
       "      <td>0.00</td>\n",
       "      <td>3.00</td>\n",
       "      <td>3.00</td>\n",
       "      <td>4.00</td>\n",
       "      <td>33.00</td>\n",
       "    </tr>\n",
       "    <tr>\n",
       "      <th>bathrooms</th>\n",
       "      <td>21612.0</td>\n",
       "      <td>2.11</td>\n",
       "      <td>0.77</td>\n",
       "      <td>0.00</td>\n",
       "      <td>1.75</td>\n",
       "      <td>2.25</td>\n",
       "      <td>2.50</td>\n",
       "      <td>8.00</td>\n",
       "    </tr>\n",
       "    <tr>\n",
       "      <th>sqft_living</th>\n",
       "      <td>21612.0</td>\n",
       "      <td>2079.93</td>\n",
       "      <td>918.45</td>\n",
       "      <td>290.00</td>\n",
       "      <td>1426.50</td>\n",
       "      <td>1910.00</td>\n",
       "      <td>2550.00</td>\n",
       "      <td>13540.00</td>\n",
       "    </tr>\n",
       "    <tr>\n",
       "      <th>sqft_lot</th>\n",
       "      <td>21612.0</td>\n",
       "      <td>15106.75</td>\n",
       "      <td>41421.46</td>\n",
       "      <td>520.00</td>\n",
       "      <td>5040.00</td>\n",
       "      <td>7617.50</td>\n",
       "      <td>10687.25</td>\n",
       "      <td>1651359.00</td>\n",
       "    </tr>\n",
       "    <tr>\n",
       "      <th>floors</th>\n",
       "      <td>21612.0</td>\n",
       "      <td>1.49</td>\n",
       "      <td>0.54</td>\n",
       "      <td>1.00</td>\n",
       "      <td>1.00</td>\n",
       "      <td>1.50</td>\n",
       "      <td>2.00</td>\n",
       "      <td>3.50</td>\n",
       "    </tr>\n",
       "    <tr>\n",
       "      <th>waterfront</th>\n",
       "      <td>21612.0</td>\n",
       "      <td>0.01</td>\n",
       "      <td>0.09</td>\n",
       "      <td>0.00</td>\n",
       "      <td>0.00</td>\n",
       "      <td>0.00</td>\n",
       "      <td>0.00</td>\n",
       "      <td>1.00</td>\n",
       "    </tr>\n",
       "    <tr>\n",
       "      <th>view</th>\n",
       "      <td>21612.0</td>\n",
       "      <td>0.23</td>\n",
       "      <td>0.77</td>\n",
       "      <td>0.00</td>\n",
       "      <td>0.00</td>\n",
       "      <td>0.00</td>\n",
       "      <td>0.00</td>\n",
       "      <td>4.00</td>\n",
       "    </tr>\n",
       "    <tr>\n",
       "      <th>condition</th>\n",
       "      <td>21612.0</td>\n",
       "      <td>3.41</td>\n",
       "      <td>0.65</td>\n",
       "      <td>1.00</td>\n",
       "      <td>3.00</td>\n",
       "      <td>3.00</td>\n",
       "      <td>4.00</td>\n",
       "      <td>5.00</td>\n",
       "    </tr>\n",
       "    <tr>\n",
       "      <th>grade</th>\n",
       "      <td>21612.0</td>\n",
       "      <td>7.66</td>\n",
       "      <td>1.18</td>\n",
       "      <td>1.00</td>\n",
       "      <td>7.00</td>\n",
       "      <td>7.00</td>\n",
       "      <td>8.00</td>\n",
       "      <td>13.00</td>\n",
       "    </tr>\n",
       "    <tr>\n",
       "      <th>sqft_above</th>\n",
       "      <td>21612.0</td>\n",
       "      <td>1788.41</td>\n",
       "      <td>828.11</td>\n",
       "      <td>290.00</td>\n",
       "      <td>1190.00</td>\n",
       "      <td>1560.00</td>\n",
       "      <td>2210.00</td>\n",
       "      <td>9410.00</td>\n",
       "    </tr>\n",
       "    <tr>\n",
       "      <th>sqft_basement</th>\n",
       "      <td>21612.0</td>\n",
       "      <td>291.52</td>\n",
       "      <td>442.58</td>\n",
       "      <td>0.00</td>\n",
       "      <td>0.00</td>\n",
       "      <td>0.00</td>\n",
       "      <td>560.00</td>\n",
       "      <td>4820.00</td>\n",
       "    </tr>\n",
       "    <tr>\n",
       "      <th>yr_built</th>\n",
       "      <td>21612.0</td>\n",
       "      <td>1971.01</td>\n",
       "      <td>29.37</td>\n",
       "      <td>1900.00</td>\n",
       "      <td>1951.00</td>\n",
       "      <td>1975.00</td>\n",
       "      <td>1997.00</td>\n",
       "      <td>2015.00</td>\n",
       "    </tr>\n",
       "    <tr>\n",
       "      <th>yr_renovated</th>\n",
       "      <td>21612.0</td>\n",
       "      <td>84.41</td>\n",
       "      <td>401.69</td>\n",
       "      <td>0.00</td>\n",
       "      <td>0.00</td>\n",
       "      <td>0.00</td>\n",
       "      <td>0.00</td>\n",
       "      <td>2015.00</td>\n",
       "    </tr>\n",
       "    <tr>\n",
       "      <th>lat</th>\n",
       "      <td>21612.0</td>\n",
       "      <td>47.56</td>\n",
       "      <td>0.14</td>\n",
       "      <td>47.16</td>\n",
       "      <td>47.47</td>\n",
       "      <td>47.57</td>\n",
       "      <td>47.68</td>\n",
       "      <td>47.78</td>\n",
       "    </tr>\n",
       "    <tr>\n",
       "      <th>long</th>\n",
       "      <td>21612.0</td>\n",
       "      <td>-122.21</td>\n",
       "      <td>0.14</td>\n",
       "      <td>-122.52</td>\n",
       "      <td>-122.33</td>\n",
       "      <td>-122.23</td>\n",
       "      <td>-122.12</td>\n",
       "      <td>-121.32</td>\n",
       "    </tr>\n",
       "    <tr>\n",
       "      <th>sqft_living15</th>\n",
       "      <td>21612.0</td>\n",
       "      <td>1986.56</td>\n",
       "      <td>685.41</td>\n",
       "      <td>399.00</td>\n",
       "      <td>1490.00</td>\n",
       "      <td>1840.00</td>\n",
       "      <td>2360.00</td>\n",
       "      <td>6210.00</td>\n",
       "    </tr>\n",
       "    <tr>\n",
       "      <th>sqft_lot15</th>\n",
       "      <td>21612.0</td>\n",
       "      <td>12768.46</td>\n",
       "      <td>27304.81</td>\n",
       "      <td>651.00</td>\n",
       "      <td>5100.00</td>\n",
       "      <td>7620.00</td>\n",
       "      <td>10083.00</td>\n",
       "      <td>871200.00</td>\n",
       "    </tr>\n",
       "  </tbody>\n",
       "</table>\n",
       "</div>"
      ],
      "text/plain": [
       "                 count       mean        std       min        25%        50%  \\\n",
       "price          21612.0  540098.79  367132.35  75000.00  321987.50  450000.00   \n",
       "bedrooms       21612.0       3.37       0.93      0.00       3.00       3.00   \n",
       "bathrooms      21612.0       2.11       0.77      0.00       1.75       2.25   \n",
       "sqft_living    21612.0    2079.93     918.45    290.00    1426.50    1910.00   \n",
       "sqft_lot       21612.0   15106.75   41421.46    520.00    5040.00    7617.50   \n",
       "floors         21612.0       1.49       0.54      1.00       1.00       1.50   \n",
       "waterfront     21612.0       0.01       0.09      0.00       0.00       0.00   \n",
       "view           21612.0       0.23       0.77      0.00       0.00       0.00   \n",
       "condition      21612.0       3.41       0.65      1.00       3.00       3.00   \n",
       "grade          21612.0       7.66       1.18      1.00       7.00       7.00   \n",
       "sqft_above     21612.0    1788.41     828.11    290.00    1190.00    1560.00   \n",
       "sqft_basement  21612.0     291.52     442.58      0.00       0.00       0.00   \n",
       "yr_built       21612.0    1971.01      29.37   1900.00    1951.00    1975.00   \n",
       "yr_renovated   21612.0      84.41     401.69      0.00       0.00       0.00   \n",
       "lat            21612.0      47.56       0.14     47.16      47.47      47.57   \n",
       "long           21612.0    -122.21       0.14   -122.52    -122.33    -122.23   \n",
       "sqft_living15  21612.0    1986.56     685.41    399.00    1490.00    1840.00   \n",
       "sqft_lot15     21612.0   12768.46   27304.81    651.00    5100.00    7620.00   \n",
       "\n",
       "                     75%         max  \n",
       "price          645000.00  7700000.00  \n",
       "bedrooms            4.00       33.00  \n",
       "bathrooms           2.50        8.00  \n",
       "sqft_living      2550.00    13540.00  \n",
       "sqft_lot        10687.25  1651359.00  \n",
       "floors              2.00        3.50  \n",
       "waterfront          0.00        1.00  \n",
       "view                0.00        4.00  \n",
       "condition           4.00        5.00  \n",
       "grade               8.00       13.00  \n",
       "sqft_above       2210.00     9410.00  \n",
       "sqft_basement     560.00     4820.00  \n",
       "yr_built         1997.00     2015.00  \n",
       "yr_renovated        0.00     2015.00  \n",
       "lat                47.68       47.78  \n",
       "long             -122.12     -121.32  \n",
       "sqft_living15    2360.00     6210.00  \n",
       "sqft_lot15      10083.00   871200.00  "
      ]
     },
     "execution_count": 153,
     "metadata": {},
     "output_type": "execute_result"
    }
   ],
   "source": [
    "data.describe().round(2).T"
   ]
  },
  {
   "cell_type": "code",
   "execution_count": 154,
   "id": "8e418de6-72ec-4df4-a097-92584ef9f786",
   "metadata": {
    "execution": {
     "iopub.execute_input": "2024-02-21T06:54:53.206901Z",
     "iopub.status.busy": "2024-02-21T06:54:53.205902Z",
     "iopub.status.idle": "2024-02-21T06:54:53.218323Z",
     "shell.execute_reply": "2024-02-21T06:54:53.217180Z",
     "shell.execute_reply.started": "2024-02-21T06:54:53.206901Z"
    }
   },
   "outputs": [
    {
     "data": {
      "text/html": [
       "<div>\n",
       "<style scoped>\n",
       "    .dataframe tbody tr th:only-of-type {\n",
       "        vertical-align: middle;\n",
       "    }\n",
       "\n",
       "    .dataframe tbody tr th {\n",
       "        vertical-align: top;\n",
       "    }\n",
       "\n",
       "    .dataframe thead th {\n",
       "        text-align: right;\n",
       "    }\n",
       "</style>\n",
       "<table border=\"1\" class=\"dataframe\">\n",
       "  <thead>\n",
       "    <tr style=\"text-align: right;\">\n",
       "      <th></th>\n",
       "      <th>price</th>\n",
       "      <th>sqft_living</th>\n",
       "      <th>sqft_lot</th>\n",
       "      <th>sqft_above</th>\n",
       "      <th>sqft_basement</th>\n",
       "      <th>yr_built</th>\n",
       "      <th>yr_renovated</th>\n",
       "      <th>sqft_living15</th>\n",
       "      <th>sqft_lot15</th>\n",
       "    </tr>\n",
       "  </thead>\n",
       "  <tbody>\n",
       "    <tr>\n",
       "      <th>0</th>\n",
       "      <td>221900.0</td>\n",
       "      <td>1180</td>\n",
       "      <td>5650</td>\n",
       "      <td>1180</td>\n",
       "      <td>0</td>\n",
       "      <td>1955</td>\n",
       "      <td>0</td>\n",
       "      <td>1340</td>\n",
       "      <td>5650</td>\n",
       "    </tr>\n",
       "    <tr>\n",
       "      <th>1</th>\n",
       "      <td>538000.0</td>\n",
       "      <td>2570</td>\n",
       "      <td>7242</td>\n",
       "      <td>2170</td>\n",
       "      <td>400</td>\n",
       "      <td>1951</td>\n",
       "      <td>1991</td>\n",
       "      <td>1690</td>\n",
       "      <td>7639</td>\n",
       "    </tr>\n",
       "    <tr>\n",
       "      <th>2</th>\n",
       "      <td>180000.0</td>\n",
       "      <td>770</td>\n",
       "      <td>10000</td>\n",
       "      <td>770</td>\n",
       "      <td>0</td>\n",
       "      <td>1933</td>\n",
       "      <td>0</td>\n",
       "      <td>2720</td>\n",
       "      <td>8062</td>\n",
       "    </tr>\n",
       "    <tr>\n",
       "      <th>3</th>\n",
       "      <td>604000.0</td>\n",
       "      <td>1960</td>\n",
       "      <td>5000</td>\n",
       "      <td>1050</td>\n",
       "      <td>910</td>\n",
       "      <td>1965</td>\n",
       "      <td>0</td>\n",
       "      <td>1360</td>\n",
       "      <td>5000</td>\n",
       "    </tr>\n",
       "    <tr>\n",
       "      <th>4</th>\n",
       "      <td>510000.0</td>\n",
       "      <td>1680</td>\n",
       "      <td>8080</td>\n",
       "      <td>1680</td>\n",
       "      <td>0</td>\n",
       "      <td>1987</td>\n",
       "      <td>0</td>\n",
       "      <td>1800</td>\n",
       "      <td>7503</td>\n",
       "    </tr>\n",
       "    <tr>\n",
       "      <th>...</th>\n",
       "      <td>...</td>\n",
       "      <td>...</td>\n",
       "      <td>...</td>\n",
       "      <td>...</td>\n",
       "      <td>...</td>\n",
       "      <td>...</td>\n",
       "      <td>...</td>\n",
       "      <td>...</td>\n",
       "      <td>...</td>\n",
       "    </tr>\n",
       "    <tr>\n",
       "      <th>21607</th>\n",
       "      <td>360000.0</td>\n",
       "      <td>1530</td>\n",
       "      <td>1131</td>\n",
       "      <td>1530</td>\n",
       "      <td>0</td>\n",
       "      <td>2009</td>\n",
       "      <td>0</td>\n",
       "      <td>1530</td>\n",
       "      <td>1509</td>\n",
       "    </tr>\n",
       "    <tr>\n",
       "      <th>21608</th>\n",
       "      <td>400000.0</td>\n",
       "      <td>2310</td>\n",
       "      <td>5813</td>\n",
       "      <td>2310</td>\n",
       "      <td>0</td>\n",
       "      <td>2014</td>\n",
       "      <td>0</td>\n",
       "      <td>1830</td>\n",
       "      <td>7200</td>\n",
       "    </tr>\n",
       "    <tr>\n",
       "      <th>21609</th>\n",
       "      <td>402101.0</td>\n",
       "      <td>1020</td>\n",
       "      <td>1350</td>\n",
       "      <td>1020</td>\n",
       "      <td>0</td>\n",
       "      <td>2009</td>\n",
       "      <td>0</td>\n",
       "      <td>1020</td>\n",
       "      <td>2007</td>\n",
       "    </tr>\n",
       "    <tr>\n",
       "      <th>21610</th>\n",
       "      <td>400000.0</td>\n",
       "      <td>1600</td>\n",
       "      <td>2388</td>\n",
       "      <td>1600</td>\n",
       "      <td>0</td>\n",
       "      <td>2004</td>\n",
       "      <td>0</td>\n",
       "      <td>1410</td>\n",
       "      <td>1287</td>\n",
       "    </tr>\n",
       "    <tr>\n",
       "      <th>21611</th>\n",
       "      <td>325000.0</td>\n",
       "      <td>1020</td>\n",
       "      <td>1076</td>\n",
       "      <td>1020</td>\n",
       "      <td>0</td>\n",
       "      <td>2008</td>\n",
       "      <td>0</td>\n",
       "      <td>1020</td>\n",
       "      <td>1357</td>\n",
       "    </tr>\n",
       "  </tbody>\n",
       "</table>\n",
       "<p>21612 rows × 9 columns</p>\n",
       "</div>"
      ],
      "text/plain": [
       "          price  sqft_living  sqft_lot  sqft_above  sqft_basement  yr_built  \\\n",
       "0      221900.0         1180      5650        1180              0      1955   \n",
       "1      538000.0         2570      7242        2170            400      1951   \n",
       "2      180000.0          770     10000         770              0      1933   \n",
       "3      604000.0         1960      5000        1050            910      1965   \n",
       "4      510000.0         1680      8080        1680              0      1987   \n",
       "...         ...          ...       ...         ...            ...       ...   \n",
       "21607  360000.0         1530      1131        1530              0      2009   \n",
       "21608  400000.0         2310      5813        2310              0      2014   \n",
       "21609  402101.0         1020      1350        1020              0      2009   \n",
       "21610  400000.0         1600      2388        1600              0      2004   \n",
       "21611  325000.0         1020      1076        1020              0      2008   \n",
       "\n",
       "       yr_renovated  sqft_living15  sqft_lot15  \n",
       "0                 0           1340        5650  \n",
       "1              1991           1690        7639  \n",
       "2                 0           2720        8062  \n",
       "3                 0           1360        5000  \n",
       "4                 0           1800        7503  \n",
       "...             ...            ...         ...  \n",
       "21607             0           1530        1509  \n",
       "21608             0           1830        7200  \n",
       "21609             0           1020        2007  \n",
       "21610             0           1410        1287  \n",
       "21611             0           1020        1357  \n",
       "\n",
       "[21612 rows x 9 columns]"
      ]
     },
     "execution_count": 154,
     "metadata": {},
     "output_type": "execute_result"
    }
   ],
   "source": [
    "data_large = data.loc[:, (data.max() > 100)]\n",
    "data_large"
   ]
  },
  {
   "cell_type": "code",
   "execution_count": 155,
   "id": "5c67f0c5-f2cf-4475-b00d-0b933ae212c6",
   "metadata": {
    "execution": {
     "iopub.execute_input": "2024-02-21T06:54:53.220322Z",
     "iopub.status.busy": "2024-02-21T06:54:53.219612Z",
     "iopub.status.idle": "2024-02-21T06:54:53.253864Z",
     "shell.execute_reply": "2024-02-21T06:54:53.253744Z",
     "shell.execute_reply.started": "2024-02-21T06:54:53.220322Z"
    },
    "scrolled": true
   },
   "outputs": [
    {
     "data": {
      "text/html": [
       "<div>\n",
       "<style scoped>\n",
       "    .dataframe tbody tr th:only-of-type {\n",
       "        vertical-align: middle;\n",
       "    }\n",
       "\n",
       "    .dataframe tbody tr th {\n",
       "        vertical-align: top;\n",
       "    }\n",
       "\n",
       "    .dataframe thead th {\n",
       "        text-align: right;\n",
       "    }\n",
       "</style>\n",
       "<table border=\"1\" class=\"dataframe\">\n",
       "  <thead>\n",
       "    <tr style=\"text-align: right;\">\n",
       "      <th></th>\n",
       "      <th>count</th>\n",
       "      <th>mean</th>\n",
       "      <th>std</th>\n",
       "      <th>min</th>\n",
       "      <th>25%</th>\n",
       "      <th>50%</th>\n",
       "      <th>75%</th>\n",
       "      <th>max</th>\n",
       "    </tr>\n",
       "  </thead>\n",
       "  <tbody>\n",
       "    <tr>\n",
       "      <th>price</th>\n",
       "      <td>21612.0</td>\n",
       "      <td>540098.79</td>\n",
       "      <td>367132.35</td>\n",
       "      <td>75000.0</td>\n",
       "      <td>321987.5</td>\n",
       "      <td>450000.0</td>\n",
       "      <td>645000.00</td>\n",
       "      <td>7700000.0</td>\n",
       "    </tr>\n",
       "    <tr>\n",
       "      <th>sqft_living</th>\n",
       "      <td>21612.0</td>\n",
       "      <td>2079.93</td>\n",
       "      <td>918.45</td>\n",
       "      <td>290.0</td>\n",
       "      <td>1426.5</td>\n",
       "      <td>1910.0</td>\n",
       "      <td>2550.00</td>\n",
       "      <td>13540.0</td>\n",
       "    </tr>\n",
       "    <tr>\n",
       "      <th>sqft_lot</th>\n",
       "      <td>21612.0</td>\n",
       "      <td>15106.75</td>\n",
       "      <td>41421.46</td>\n",
       "      <td>520.0</td>\n",
       "      <td>5040.0</td>\n",
       "      <td>7617.5</td>\n",
       "      <td>10687.25</td>\n",
       "      <td>1651359.0</td>\n",
       "    </tr>\n",
       "    <tr>\n",
       "      <th>sqft_above</th>\n",
       "      <td>21612.0</td>\n",
       "      <td>1788.41</td>\n",
       "      <td>828.11</td>\n",
       "      <td>290.0</td>\n",
       "      <td>1190.0</td>\n",
       "      <td>1560.0</td>\n",
       "      <td>2210.00</td>\n",
       "      <td>9410.0</td>\n",
       "    </tr>\n",
       "    <tr>\n",
       "      <th>sqft_basement</th>\n",
       "      <td>21612.0</td>\n",
       "      <td>291.52</td>\n",
       "      <td>442.58</td>\n",
       "      <td>0.0</td>\n",
       "      <td>0.0</td>\n",
       "      <td>0.0</td>\n",
       "      <td>560.00</td>\n",
       "      <td>4820.0</td>\n",
       "    </tr>\n",
       "    <tr>\n",
       "      <th>yr_built</th>\n",
       "      <td>21612.0</td>\n",
       "      <td>1971.01</td>\n",
       "      <td>29.37</td>\n",
       "      <td>1900.0</td>\n",
       "      <td>1951.0</td>\n",
       "      <td>1975.0</td>\n",
       "      <td>1997.00</td>\n",
       "      <td>2015.0</td>\n",
       "    </tr>\n",
       "    <tr>\n",
       "      <th>yr_renovated</th>\n",
       "      <td>21612.0</td>\n",
       "      <td>84.41</td>\n",
       "      <td>401.69</td>\n",
       "      <td>0.0</td>\n",
       "      <td>0.0</td>\n",
       "      <td>0.0</td>\n",
       "      <td>0.00</td>\n",
       "      <td>2015.0</td>\n",
       "    </tr>\n",
       "    <tr>\n",
       "      <th>sqft_living15</th>\n",
       "      <td>21612.0</td>\n",
       "      <td>1986.56</td>\n",
       "      <td>685.41</td>\n",
       "      <td>399.0</td>\n",
       "      <td>1490.0</td>\n",
       "      <td>1840.0</td>\n",
       "      <td>2360.00</td>\n",
       "      <td>6210.0</td>\n",
       "    </tr>\n",
       "    <tr>\n",
       "      <th>sqft_lot15</th>\n",
       "      <td>21612.0</td>\n",
       "      <td>12768.46</td>\n",
       "      <td>27304.81</td>\n",
       "      <td>651.0</td>\n",
       "      <td>5100.0</td>\n",
       "      <td>7620.0</td>\n",
       "      <td>10083.00</td>\n",
       "      <td>871200.0</td>\n",
       "    </tr>\n",
       "  </tbody>\n",
       "</table>\n",
       "</div>"
      ],
      "text/plain": [
       "                 count       mean        std      min       25%       50%  \\\n",
       "price          21612.0  540098.79  367132.35  75000.0  321987.5  450000.0   \n",
       "sqft_living    21612.0    2079.93     918.45    290.0    1426.5    1910.0   \n",
       "sqft_lot       21612.0   15106.75   41421.46    520.0    5040.0    7617.5   \n",
       "sqft_above     21612.0    1788.41     828.11    290.0    1190.0    1560.0   \n",
       "sqft_basement  21612.0     291.52     442.58      0.0       0.0       0.0   \n",
       "yr_built       21612.0    1971.01      29.37   1900.0    1951.0    1975.0   \n",
       "yr_renovated   21612.0      84.41     401.69      0.0       0.0       0.0   \n",
       "sqft_living15  21612.0    1986.56     685.41    399.0    1490.0    1840.0   \n",
       "sqft_lot15     21612.0   12768.46   27304.81    651.0    5100.0    7620.0   \n",
       "\n",
       "                     75%        max  \n",
       "price          645000.00  7700000.0  \n",
       "sqft_living      2550.00    13540.0  \n",
       "sqft_lot        10687.25  1651359.0  \n",
       "sqft_above       2210.00     9410.0  \n",
       "sqft_basement     560.00     4820.0  \n",
       "yr_built         1997.00     2015.0  \n",
       "yr_renovated        0.00     2015.0  \n",
       "sqft_living15    2360.00     6210.0  \n",
       "sqft_lot15      10083.00   871200.0  "
      ]
     },
     "execution_count": 155,
     "metadata": {},
     "output_type": "execute_result"
    }
   ],
   "source": [
    "data_large.describe().round(2).T"
   ]
  },
  {
   "cell_type": "code",
   "execution_count": 156,
   "id": "6ee9225a-c9ea-4b90-8c67-0241d2f7fd94",
   "metadata": {
    "execution": {
     "iopub.execute_input": "2024-02-21T06:54:53.255865Z",
     "iopub.status.busy": "2024-02-21T06:54:53.254876Z",
     "iopub.status.idle": "2024-02-21T06:54:53.272031Z",
     "shell.execute_reply": "2024-02-21T06:54:53.271024Z",
     "shell.execute_reply.started": "2024-02-21T06:54:53.255865Z"
    }
   },
   "outputs": [
    {
     "data": {
      "text/plain": [
       "0       -1955\n",
       "1          40\n",
       "2       -1933\n",
       "3       -1965\n",
       "4       -1987\n",
       "         ... \n",
       "21607   -2009\n",
       "21608   -2014\n",
       "21609   -2009\n",
       "21610   -2004\n",
       "21611   -2008\n",
       "Length: 21612, dtype: int64"
      ]
     },
     "execution_count": 156,
     "metadata": {},
     "output_type": "execute_result"
    }
   ],
   "source": [
    "years_until_renovation = data['yr_renovated'] - data['yr_built']\n",
    "years_until_renovation"
   ]
  },
  {
   "cell_type": "code",
   "execution_count": 157,
   "id": "3a874154-679d-4585-a0f5-4a2590be1917",
   "metadata": {
    "execution": {
     "iopub.execute_input": "2024-02-21T06:54:53.273030Z",
     "iopub.status.busy": "2024-02-21T06:54:53.273030Z",
     "iopub.status.idle": "2024-02-21T06:54:53.281745Z",
     "shell.execute_reply": "2024-02-21T06:54:53.281653Z",
     "shell.execute_reply.started": "2024-02-21T06:54:53.273030Z"
    }
   },
   "outputs": [
    {
     "data": {
      "text/plain": [
       "0         0\n",
       "1        40\n",
       "2         0\n",
       "3         0\n",
       "4         0\n",
       "         ..\n",
       "21607     0\n",
       "21608     0\n",
       "21609     0\n",
       "21610     0\n",
       "21611     0\n",
       "Name: yrs_until_reno, Length: 21612, dtype: int64"
      ]
     },
     "execution_count": 157,
     "metadata": {},
     "output_type": "execute_result"
    }
   ],
   "source": [
    "data['yrs_until_reno'] = np.where((years_until_renovation < 0), 0, years_until_renovation)\n",
    "data['yrs_until_reno']"
   ]
  },
  {
   "cell_type": "code",
   "execution_count": 158,
   "id": "268c7c6c-eb5d-46c6-afb4-d8ecd3b5b154",
   "metadata": {
    "execution": {
     "iopub.execute_input": "2024-02-21T06:54:53.283856Z",
     "iopub.status.busy": "2024-02-21T06:54:53.282750Z",
     "iopub.status.idle": "2024-02-21T06:54:53.298106Z",
     "shell.execute_reply": "2024-02-21T06:54:53.298007Z",
     "shell.execute_reply.started": "2024-02-21T06:54:53.283856Z"
    }
   },
   "outputs": [
    {
     "data": {
      "text/plain": [
       "count    21612.000000\n",
       "mean         2.380992\n",
       "std         12.359804\n",
       "min          0.000000\n",
       "25%          0.000000\n",
       "50%          0.000000\n",
       "75%          0.000000\n",
       "max        114.000000\n",
       "Name: yrs_until_reno, dtype: float64"
      ]
     },
     "execution_count": 158,
     "metadata": {},
     "output_type": "execute_result"
    }
   ],
   "source": [
    "data['yrs_until_reno'].describe()"
   ]
  },
  {
   "cell_type": "code",
   "execution_count": 159,
   "id": "c72b362d-864a-4d5b-a8a4-48b4afc43776",
   "metadata": {
    "execution": {
     "iopub.execute_input": "2024-02-21T06:54:53.300111Z",
     "iopub.status.busy": "2024-02-21T06:54:53.299110Z",
     "iopub.status.idle": "2024-02-21T06:54:53.322554Z",
     "shell.execute_reply": "2024-02-21T06:54:53.322314Z",
     "shell.execute_reply.started": "2024-02-21T06:54:53.300111Z"
    }
   },
   "outputs": [
    {
     "data": {
      "text/html": [
       "<div>\n",
       "<style scoped>\n",
       "    .dataframe tbody tr th:only-of-type {\n",
       "        vertical-align: middle;\n",
       "    }\n",
       "\n",
       "    .dataframe tbody tr th {\n",
       "        vertical-align: top;\n",
       "    }\n",
       "\n",
       "    .dataframe thead th {\n",
       "        text-align: right;\n",
       "    }\n",
       "</style>\n",
       "<table border=\"1\" class=\"dataframe\">\n",
       "  <thead>\n",
       "    <tr style=\"text-align: right;\">\n",
       "      <th></th>\n",
       "      <th>price</th>\n",
       "      <th>bedrooms</th>\n",
       "      <th>bathrooms</th>\n",
       "      <th>sqft_living</th>\n",
       "      <th>sqft_lot</th>\n",
       "      <th>floors</th>\n",
       "      <th>waterfront</th>\n",
       "      <th>view</th>\n",
       "      <th>condition</th>\n",
       "      <th>grade</th>\n",
       "      <th>sqft_above</th>\n",
       "      <th>sqft_basement</th>\n",
       "      <th>yr_built</th>\n",
       "      <th>yr_renovated</th>\n",
       "      <th>lat</th>\n",
       "      <th>long</th>\n",
       "      <th>sqft_living15</th>\n",
       "      <th>sqft_lot15</th>\n",
       "      <th>yrs_until_reno</th>\n",
       "    </tr>\n",
       "  </thead>\n",
       "  <tbody>\n",
       "    <tr>\n",
       "      <th>0</th>\n",
       "      <td>221900.0</td>\n",
       "      <td>3</td>\n",
       "      <td>1.00</td>\n",
       "      <td>1180</td>\n",
       "      <td>5650</td>\n",
       "      <td>1.0</td>\n",
       "      <td>0</td>\n",
       "      <td>0</td>\n",
       "      <td>3</td>\n",
       "      <td>7</td>\n",
       "      <td>1180</td>\n",
       "      <td>0</td>\n",
       "      <td>1955</td>\n",
       "      <td>0</td>\n",
       "      <td>47.5112</td>\n",
       "      <td>-122.257</td>\n",
       "      <td>1340</td>\n",
       "      <td>5650</td>\n",
       "      <td>0</td>\n",
       "    </tr>\n",
       "    <tr>\n",
       "      <th>1</th>\n",
       "      <td>538000.0</td>\n",
       "      <td>3</td>\n",
       "      <td>2.25</td>\n",
       "      <td>2570</td>\n",
       "      <td>7242</td>\n",
       "      <td>2.0</td>\n",
       "      <td>0</td>\n",
       "      <td>0</td>\n",
       "      <td>3</td>\n",
       "      <td>7</td>\n",
       "      <td>2170</td>\n",
       "      <td>400</td>\n",
       "      <td>1951</td>\n",
       "      <td>1991</td>\n",
       "      <td>47.7210</td>\n",
       "      <td>-122.319</td>\n",
       "      <td>1690</td>\n",
       "      <td>7639</td>\n",
       "      <td>40</td>\n",
       "    </tr>\n",
       "    <tr>\n",
       "      <th>2</th>\n",
       "      <td>180000.0</td>\n",
       "      <td>2</td>\n",
       "      <td>1.00</td>\n",
       "      <td>770</td>\n",
       "      <td>10000</td>\n",
       "      <td>1.0</td>\n",
       "      <td>0</td>\n",
       "      <td>0</td>\n",
       "      <td>3</td>\n",
       "      <td>6</td>\n",
       "      <td>770</td>\n",
       "      <td>0</td>\n",
       "      <td>1933</td>\n",
       "      <td>0</td>\n",
       "      <td>47.7379</td>\n",
       "      <td>-122.233</td>\n",
       "      <td>2720</td>\n",
       "      <td>8062</td>\n",
       "      <td>0</td>\n",
       "    </tr>\n",
       "    <tr>\n",
       "      <th>3</th>\n",
       "      <td>604000.0</td>\n",
       "      <td>4</td>\n",
       "      <td>3.00</td>\n",
       "      <td>1960</td>\n",
       "      <td>5000</td>\n",
       "      <td>1.0</td>\n",
       "      <td>0</td>\n",
       "      <td>0</td>\n",
       "      <td>5</td>\n",
       "      <td>7</td>\n",
       "      <td>1050</td>\n",
       "      <td>910</td>\n",
       "      <td>1965</td>\n",
       "      <td>0</td>\n",
       "      <td>47.5208</td>\n",
       "      <td>-122.393</td>\n",
       "      <td>1360</td>\n",
       "      <td>5000</td>\n",
       "      <td>0</td>\n",
       "    </tr>\n",
       "    <tr>\n",
       "      <th>4</th>\n",
       "      <td>510000.0</td>\n",
       "      <td>3</td>\n",
       "      <td>2.00</td>\n",
       "      <td>1680</td>\n",
       "      <td>8080</td>\n",
       "      <td>1.0</td>\n",
       "      <td>0</td>\n",
       "      <td>0</td>\n",
       "      <td>3</td>\n",
       "      <td>8</td>\n",
       "      <td>1680</td>\n",
       "      <td>0</td>\n",
       "      <td>1987</td>\n",
       "      <td>0</td>\n",
       "      <td>47.6168</td>\n",
       "      <td>-122.045</td>\n",
       "      <td>1800</td>\n",
       "      <td>7503</td>\n",
       "      <td>0</td>\n",
       "    </tr>\n",
       "    <tr>\n",
       "      <th>...</th>\n",
       "      <td>...</td>\n",
       "      <td>...</td>\n",
       "      <td>...</td>\n",
       "      <td>...</td>\n",
       "      <td>...</td>\n",
       "      <td>...</td>\n",
       "      <td>...</td>\n",
       "      <td>...</td>\n",
       "      <td>...</td>\n",
       "      <td>...</td>\n",
       "      <td>...</td>\n",
       "      <td>...</td>\n",
       "      <td>...</td>\n",
       "      <td>...</td>\n",
       "      <td>...</td>\n",
       "      <td>...</td>\n",
       "      <td>...</td>\n",
       "      <td>...</td>\n",
       "      <td>...</td>\n",
       "    </tr>\n",
       "    <tr>\n",
       "      <th>21607</th>\n",
       "      <td>360000.0</td>\n",
       "      <td>3</td>\n",
       "      <td>2.50</td>\n",
       "      <td>1530</td>\n",
       "      <td>1131</td>\n",
       "      <td>3.0</td>\n",
       "      <td>0</td>\n",
       "      <td>0</td>\n",
       "      <td>3</td>\n",
       "      <td>8</td>\n",
       "      <td>1530</td>\n",
       "      <td>0</td>\n",
       "      <td>2009</td>\n",
       "      <td>0</td>\n",
       "      <td>47.6993</td>\n",
       "      <td>-122.346</td>\n",
       "      <td>1530</td>\n",
       "      <td>1509</td>\n",
       "      <td>0</td>\n",
       "    </tr>\n",
       "    <tr>\n",
       "      <th>21608</th>\n",
       "      <td>400000.0</td>\n",
       "      <td>4</td>\n",
       "      <td>2.50</td>\n",
       "      <td>2310</td>\n",
       "      <td>5813</td>\n",
       "      <td>2.0</td>\n",
       "      <td>0</td>\n",
       "      <td>0</td>\n",
       "      <td>3</td>\n",
       "      <td>8</td>\n",
       "      <td>2310</td>\n",
       "      <td>0</td>\n",
       "      <td>2014</td>\n",
       "      <td>0</td>\n",
       "      <td>47.5107</td>\n",
       "      <td>-122.362</td>\n",
       "      <td>1830</td>\n",
       "      <td>7200</td>\n",
       "      <td>0</td>\n",
       "    </tr>\n",
       "    <tr>\n",
       "      <th>21609</th>\n",
       "      <td>402101.0</td>\n",
       "      <td>2</td>\n",
       "      <td>0.75</td>\n",
       "      <td>1020</td>\n",
       "      <td>1350</td>\n",
       "      <td>2.0</td>\n",
       "      <td>0</td>\n",
       "      <td>0</td>\n",
       "      <td>3</td>\n",
       "      <td>7</td>\n",
       "      <td>1020</td>\n",
       "      <td>0</td>\n",
       "      <td>2009</td>\n",
       "      <td>0</td>\n",
       "      <td>47.5944</td>\n",
       "      <td>-122.299</td>\n",
       "      <td>1020</td>\n",
       "      <td>2007</td>\n",
       "      <td>0</td>\n",
       "    </tr>\n",
       "    <tr>\n",
       "      <th>21610</th>\n",
       "      <td>400000.0</td>\n",
       "      <td>3</td>\n",
       "      <td>2.50</td>\n",
       "      <td>1600</td>\n",
       "      <td>2388</td>\n",
       "      <td>2.0</td>\n",
       "      <td>0</td>\n",
       "      <td>0</td>\n",
       "      <td>3</td>\n",
       "      <td>8</td>\n",
       "      <td>1600</td>\n",
       "      <td>0</td>\n",
       "      <td>2004</td>\n",
       "      <td>0</td>\n",
       "      <td>47.5345</td>\n",
       "      <td>-122.069</td>\n",
       "      <td>1410</td>\n",
       "      <td>1287</td>\n",
       "      <td>0</td>\n",
       "    </tr>\n",
       "    <tr>\n",
       "      <th>21611</th>\n",
       "      <td>325000.0</td>\n",
       "      <td>2</td>\n",
       "      <td>0.75</td>\n",
       "      <td>1020</td>\n",
       "      <td>1076</td>\n",
       "      <td>2.0</td>\n",
       "      <td>0</td>\n",
       "      <td>0</td>\n",
       "      <td>3</td>\n",
       "      <td>7</td>\n",
       "      <td>1020</td>\n",
       "      <td>0</td>\n",
       "      <td>2008</td>\n",
       "      <td>0</td>\n",
       "      <td>47.5941</td>\n",
       "      <td>-122.299</td>\n",
       "      <td>1020</td>\n",
       "      <td>1357</td>\n",
       "      <td>0</td>\n",
       "    </tr>\n",
       "  </tbody>\n",
       "</table>\n",
       "<p>21612 rows × 19 columns</p>\n",
       "</div>"
      ],
      "text/plain": [
       "          price  bedrooms  bathrooms  sqft_living  sqft_lot  floors  \\\n",
       "0      221900.0         3       1.00         1180      5650     1.0   \n",
       "1      538000.0         3       2.25         2570      7242     2.0   \n",
       "2      180000.0         2       1.00          770     10000     1.0   \n",
       "3      604000.0         4       3.00         1960      5000     1.0   \n",
       "4      510000.0         3       2.00         1680      8080     1.0   \n",
       "...         ...       ...        ...          ...       ...     ...   \n",
       "21607  360000.0         3       2.50         1530      1131     3.0   \n",
       "21608  400000.0         4       2.50         2310      5813     2.0   \n",
       "21609  402101.0         2       0.75         1020      1350     2.0   \n",
       "21610  400000.0         3       2.50         1600      2388     2.0   \n",
       "21611  325000.0         2       0.75         1020      1076     2.0   \n",
       "\n",
       "       waterfront  view  condition  grade  sqft_above  sqft_basement  \\\n",
       "0               0     0          3      7        1180              0   \n",
       "1               0     0          3      7        2170            400   \n",
       "2               0     0          3      6         770              0   \n",
       "3               0     0          5      7        1050            910   \n",
       "4               0     0          3      8        1680              0   \n",
       "...           ...   ...        ...    ...         ...            ...   \n",
       "21607           0     0          3      8        1530              0   \n",
       "21608           0     0          3      8        2310              0   \n",
       "21609           0     0          3      7        1020              0   \n",
       "21610           0     0          3      8        1600              0   \n",
       "21611           0     0          3      7        1020              0   \n",
       "\n",
       "       yr_built  yr_renovated      lat     long  sqft_living15  sqft_lot15  \\\n",
       "0          1955             0  47.5112 -122.257           1340        5650   \n",
       "1          1951          1991  47.7210 -122.319           1690        7639   \n",
       "2          1933             0  47.7379 -122.233           2720        8062   \n",
       "3          1965             0  47.5208 -122.393           1360        5000   \n",
       "4          1987             0  47.6168 -122.045           1800        7503   \n",
       "...         ...           ...      ...      ...            ...         ...   \n",
       "21607      2009             0  47.6993 -122.346           1530        1509   \n",
       "21608      2014             0  47.5107 -122.362           1830        7200   \n",
       "21609      2009             0  47.5944 -122.299           1020        2007   \n",
       "21610      2004             0  47.5345 -122.069           1410        1287   \n",
       "21611      2008             0  47.5941 -122.299           1020        1357   \n",
       "\n",
       "       yrs_until_reno  \n",
       "0                   0  \n",
       "1                  40  \n",
       "2                   0  \n",
       "3                   0  \n",
       "4                   0  \n",
       "...               ...  \n",
       "21607               0  \n",
       "21608               0  \n",
       "21609               0  \n",
       "21610               0  \n",
       "21611               0  \n",
       "\n",
       "[21612 rows x 19 columns]"
      ]
     },
     "execution_count": 159,
     "metadata": {},
     "output_type": "execute_result"
    }
   ],
   "source": [
    "data"
   ]
  },
  {
   "cell_type": "markdown",
   "id": "a0d9f286-b470-4b44-8f06-1862f5da4a3d",
   "metadata": {},
   "source": [
    "# Train/Test Split"
   ]
  },
  {
   "cell_type": "code",
   "execution_count": 160,
   "id": "9cbbbeb2-eded-4084-88bc-2cad065d1c36",
   "metadata": {
    "execution": {
     "iopub.execute_input": "2024-02-21T06:54:53.324555Z",
     "iopub.status.busy": "2024-02-21T06:54:53.324555Z",
     "iopub.status.idle": "2024-02-21T06:54:53.338689Z",
     "shell.execute_reply": "2024-02-21T06:54:53.337769Z",
     "shell.execute_reply.started": "2024-02-21T06:54:53.324555Z"
    }
   },
   "outputs": [],
   "source": [
    "target_feature = 'price'\n",
    "\n",
    "X = data.drop(columns = target_feature)\n",
    "y = data.loc[:, target_feature]\n",
    "\n",
    "X_train, X_test, y_train, y_test = train_test_split(X, y, test_size = .25, random_state = 42)"
   ]
  },
  {
   "cell_type": "code",
   "execution_count": 161,
   "id": "c17eb805-fade-4350-8e03-2875ea4f362c",
   "metadata": {
    "execution": {
     "iopub.execute_input": "2024-02-21T06:54:53.341746Z",
     "iopub.status.busy": "2024-02-21T06:54:53.341746Z",
     "iopub.status.idle": "2024-02-21T06:54:53.349030Z",
     "shell.execute_reply": "2024-02-21T06:54:53.348026Z",
     "shell.execute_reply.started": "2024-02-21T06:54:53.341746Z"
    }
   },
   "outputs": [],
   "source": [
    "# preprocessor = StandardScaler()\n",
    "# preprocessor"
   ]
  },
  {
   "cell_type": "code",
   "execution_count": 162,
   "id": "9746767d-38a4-4da6-9ae6-31ece2ca3d84",
   "metadata": {
    "execution": {
     "iopub.execute_input": "2024-02-21T06:54:53.350565Z",
     "iopub.status.busy": "2024-02-21T06:54:53.350565Z",
     "iopub.status.idle": "2024-02-21T06:54:53.364243Z",
     "shell.execute_reply": "2024-02-21T06:54:53.363252Z",
     "shell.execute_reply.started": "2024-02-21T06:54:53.350565Z"
    }
   },
   "outputs": [],
   "source": [
    "# preprocessor.fit_transform(X_train)"
   ]
  },
  {
   "cell_type": "code",
   "execution_count": 163,
   "id": "5bf162b6-0a71-4118-992f-7308f17907d1",
   "metadata": {
    "execution": {
     "iopub.execute_input": "2024-02-21T06:54:53.366243Z",
     "iopub.status.busy": "2024-02-21T06:54:53.365255Z",
     "iopub.status.idle": "2024-02-21T06:54:53.379966Z",
     "shell.execute_reply": "2024-02-21T06:54:53.378963Z",
     "shell.execute_reply.started": "2024-02-21T06:54:53.366243Z"
    },
    "scrolled": true
   },
   "outputs": [],
   "source": [
    "# preprocessor.n_samples_seen_"
   ]
  },
  {
   "cell_type": "code",
   "execution_count": 164,
   "id": "ffea3fd1-bde0-4fbf-82ed-1a7a564e93be",
   "metadata": {
    "execution": {
     "iopub.execute_input": "2024-02-21T06:54:53.380963Z",
     "iopub.status.busy": "2024-02-21T06:54:53.380963Z",
     "iopub.status.idle": "2024-02-21T06:54:53.388966Z",
     "shell.execute_reply": "2024-02-21T06:54:53.388966Z",
     "shell.execute_reply.started": "2024-02-21T06:54:53.380963Z"
    }
   },
   "outputs": [],
   "source": [
    "# y_train"
   ]
  },
  {
   "cell_type": "markdown",
   "id": "987866e6-157f-420b-9c24-33dfc6467928",
   "metadata": {},
   "source": [
    "# Preprocessing Pipeline"
   ]
  },
  {
   "attachments": {},
   "cell_type": "markdown",
   "id": "e50b9529-231b-4491-9489-a2e0197fc745",
   "metadata": {},
   "source": [
    "## Impact of TransformedTargetRegressor\n",
    "\n",
    "Performing a log transformation on the `price` target feature reduces the right-tailed skewness, making the target more closely match the normal distribution."
   ]
  },
  {
   "cell_type": "code",
   "execution_count": 165,
   "id": "2efa027c-b9a9-4088-957b-36776f35bb1d",
   "metadata": {
    "execution": {
     "iopub.execute_input": "2024-02-21T06:54:53.390255Z",
     "iopub.status.busy": "2024-02-21T06:54:53.390255Z",
     "iopub.status.idle": "2024-02-21T06:54:54.082160Z",
     "shell.execute_reply": "2024-02-21T06:54:54.082160Z",
     "shell.execute_reply.started": "2024-02-21T06:54:53.390255Z"
    },
    "scrolled": true
   },
   "outputs": [
    {
     "data": {
      "image/png": "[encoded data removed]",
      "text/plain": [
       "<Figure size 640x480 with 1 Axes>"
      ]
     },
     "metadata": {},
     "output_type": "display_data"
    }
   ],
   "source": [
    "data['price'].plot(kind = 'kde');"
   ]
  },
  {
   "cell_type": "code",
   "execution_count": 166,
   "id": "81b6228b-1d83-4216-8ea8-faaba14311ab",
   "metadata": {
    "execution": {
     "iopub.execute_input": "2024-02-21T06:54:54.083161Z",
     "iopub.status.busy": "2024-02-21T06:54:54.083161Z",
     "iopub.status.idle": "2024-02-21T06:54:54.649338Z",
     "shell.execute_reply": "2024-02-21T06:54:54.649338Z",
     "shell.execute_reply.started": "2024-02-21T06:54:54.083161Z"
    }
   },
   "outputs": [
    {
     "data": {
      "image/png": "[encoded data removed]",
      "text/plain": [
       "<Figure size 640x480 with 1 Axes>"
      ]
     },
     "metadata": {},
     "output_type": "display_data"
    }
   ],
   "source": [
    "data['price'].apply(np.log1p).plot(kind='kde');"
   ]
  },
  {
   "cell_type": "markdown",
   "id": "164e22a4-1d52-4edb-9440-5b9b63655009",
   "metadata": {},
   "source": [
    "## Pipeline Generation"
   ]
  },
  {
   "cell_type": "code",
   "execution_count": null,
   "id": "a4855b44-0dcd-46d3-80f1-528ae9626c82",
   "metadata": {},
   "outputs": [],
   "source": []
  },
  {
   "cell_type": "markdown",
   "id": "37bd8570-5180-4628-a379-47a4e8ad8be8",
   "metadata": {},
   "source": [
    "# Regression: OLS"
   ]
  },
  {
   "cell_type": "code",
   "execution_count": 167,
   "id": "3d8a0628-d17d-482e-a22f-c738c1f59083",
   "metadata": {
    "execution": {
     "iopub.execute_input": "2024-02-21T06:54:55.291492Z",
     "iopub.status.busy": "2024-02-21T06:54:55.291492Z",
     "iopub.status.idle": "2024-02-21T06:54:55.298472Z",
     "shell.execute_reply": "2024-02-21T06:54:55.298472Z",
     "shell.execute_reply.started": "2024-02-21T06:54:55.291492Z"
    }
   },
   "outputs": [],
   "source": [
    "regressor = LinearRegression()"
   ]
  },
  {
   "cell_type": "code",
   "execution_count": 168,
   "id": "14c279db-7778-4d0a-ab0e-d565c4197e43",
   "metadata": {
    "execution": {
     "iopub.execute_input": "2024-02-21T06:54:56.117082Z",
     "iopub.status.busy": "2024-02-21T06:54:56.117082Z",
     "iopub.status.idle": "2024-02-21T06:54:56.155047Z",
     "shell.execute_reply": "2024-02-21T06:54:56.154043Z",
     "shell.execute_reply.started": "2024-02-21T06:54:56.117082Z"
    }
   },
   "outputs": [
    {
     "data": {
      "text/html": [
       "<style>#sk-container-id-3 {color: black;}#sk-container-id-3 pre{padding: 0;}#sk-container-id-3 div.sk-toggleable {background-color: white;}#sk-container-id-3 label.sk-toggleable__label {cursor: pointer;display: block;width: 100%;margin-bottom: 0;padding: 0.3em;box-sizing: border-box;text-align: center;}#sk-container-id-3 label.sk-toggleable__label-arrow:before {content: \"▸\";float: left;margin-right: 0.25em;color: #696969;}#sk-container-id-3 label.sk-toggleable__label-arrow:hover:before {color: black;}#sk-container-id-3 div.sk-estimator:hover label.sk-toggleable__label-arrow:before {color: black;}#sk-container-id-3 div.sk-toggleable__content {max-height: 0;max-width: 0;overflow: hidden;text-align: left;background-color: #f0f8ff;}#sk-container-id-3 div.sk-toggleable__content pre {margin: 0.2em;color: black;border-radius: 0.25em;background-color: #f0f8ff;}#sk-container-id-3 input.sk-toggleable__control:checked~div.sk-toggleable__content {max-height: 200px;max-width: 100%;overflow: auto;}#sk-container-id-3 input.sk-toggleable__control:checked~label.sk-toggleable__label-arrow:before {content: \"▾\";}#sk-container-id-3 div.sk-estimator input.sk-toggleable__control:checked~label.sk-toggleable__label {background-color: #d4ebff;}#sk-container-id-3 div.sk-label input.sk-toggleable__control:checked~label.sk-toggleable__label {background-color: #d4ebff;}#sk-container-id-3 input.sk-hidden--visually {border: 0;clip: rect(1px 1px 1px 1px);clip: rect(1px, 1px, 1px, 1px);height: 1px;margin: -1px;overflow: hidden;padding: 0;position: absolute;width: 1px;}#sk-container-id-3 div.sk-estimator {font-family: monospace;background-color: #f0f8ff;border: 1px dotted black;border-radius: 0.25em;box-sizing: border-box;margin-bottom: 0.5em;}#sk-container-id-3 div.sk-estimator:hover {background-color: #d4ebff;}#sk-container-id-3 div.sk-parallel-item::after {content: \"\";width: 100%;border-bottom: 1px solid gray;flex-grow: 1;}#sk-container-id-3 div.sk-label:hover label.sk-toggleable__label {background-color: #d4ebff;}#sk-container-id-3 div.sk-serial::before {content: \"\";position: absolute;border-left: 1px solid gray;box-sizing: border-box;top: 0;bottom: 0;left: 50%;z-index: 0;}#sk-container-id-3 div.sk-serial {display: flex;flex-direction: column;align-items: center;background-color: white;padding-right: 0.2em;padding-left: 0.2em;position: relative;}#sk-container-id-3 div.sk-item {position: relative;z-index: 1;}#sk-container-id-3 div.sk-parallel {display: flex;align-items: stretch;justify-content: center;background-color: white;position: relative;}#sk-container-id-3 div.sk-item::before, #sk-container-id-3 div.sk-parallel-item::before {content: \"\";position: absolute;border-left: 1px solid gray;box-sizing: border-box;top: 0;bottom: 0;left: 50%;z-index: -1;}#sk-container-id-3 div.sk-parallel-item {display: flex;flex-direction: column;z-index: 1;position: relative;background-color: white;}#sk-container-id-3 div.sk-parallel-item:first-child::after {align-self: flex-end;width: 50%;}#sk-container-id-3 div.sk-parallel-item:last-child::after {align-self: flex-start;width: 50%;}#sk-container-id-3 div.sk-parallel-item:only-child::after {width: 0;}#sk-container-id-3 div.sk-dashed-wrapped {border: 1px dashed gray;margin: 0 0.4em 0.5em 0.4em;box-sizing: border-box;padding-bottom: 0.4em;background-color: white;}#sk-container-id-3 div.sk-label label {font-family: monospace;font-weight: bold;display: inline-block;line-height: 1.2em;}#sk-container-id-3 div.sk-label-container {text-align: center;}#sk-container-id-3 div.sk-container {/* jupyter's `normalize.less` sets `[hidden] { display: none; }` but bootstrap.min.css set `[hidden] { display: none !important; }` so we also need the `!important` here to be able to override the default hidden behavior on the sphinx rendered scikit-learn.org. See: https://github.com/scikit-learn/scikit-learn/issues/21755 */display: inline-block !important;position: relative;}#sk-container-id-3 div.sk-text-repr-fallback {display: none;}</style><div id=\"sk-container-id-3\" class=\"sk-top-container\"><div class=\"sk-text-repr-fallback\"><pre>Pipeline(steps=[(&#x27;standardscaler&#x27;, StandardScaler()),\n",
       "                (&#x27;transformedtargetregressor&#x27;,\n",
       "                 TransformedTargetRegressor(func=&lt;ufunc &#x27;log1p&#x27;&gt;,\n",
       "                                            inverse_func=&lt;ufunc &#x27;expm1&#x27;&gt;,\n",
       "                                            regressor=LinearRegression()))])</pre><b>In a Jupyter environment, please rerun this cell to show the HTML representation or trust the notebook. <br />On GitHub, the HTML representation is unable to render, please try loading this page with nbviewer.org.</b></div><div class=\"sk-container\" hidden><div class=\"sk-item sk-dashed-wrapped\"><div class=\"sk-label-container\"><div class=\"sk-label sk-toggleable\"><input class=\"sk-toggleable__control sk-hidden--visually\" id=\"sk-estimator-id-5\" type=\"checkbox\" ><label for=\"sk-estimator-id-5\" class=\"sk-toggleable__label sk-toggleable__label-arrow\">Pipeline</label><div class=\"sk-toggleable__content\"><pre>Pipeline(steps=[(&#x27;standardscaler&#x27;, StandardScaler()),\n",
       "                (&#x27;transformedtargetregressor&#x27;,\n",
       "                 TransformedTargetRegressor(func=&lt;ufunc &#x27;log1p&#x27;&gt;,\n",
       "                                            inverse_func=&lt;ufunc &#x27;expm1&#x27;&gt;,\n",
       "                                            regressor=LinearRegression()))])</pre></div></div></div><div class=\"sk-serial\"><div class=\"sk-item\"><div class=\"sk-estimator sk-toggleable\"><input class=\"sk-toggleable__control sk-hidden--visually\" id=\"sk-estimator-id-6\" type=\"checkbox\" ><label for=\"sk-estimator-id-6\" class=\"sk-toggleable__label sk-toggleable__label-arrow\">StandardScaler</label><div class=\"sk-toggleable__content\"><pre>StandardScaler()</pre></div></div></div><div class=\"sk-item sk-dashed-wrapped\"><div class=\"sk-label-container\"><div class=\"sk-label sk-toggleable\"><input class=\"sk-toggleable__control sk-hidden--visually\" id=\"sk-estimator-id-7\" type=\"checkbox\" ><label for=\"sk-estimator-id-7\" class=\"sk-toggleable__label sk-toggleable__label-arrow\">transformedtargetregressor: TransformedTargetRegressor</label><div class=\"sk-toggleable__content\"><pre>TransformedTargetRegressor(func=&lt;ufunc &#x27;log1p&#x27;&gt;, inverse_func=&lt;ufunc &#x27;expm1&#x27;&gt;,\n",
       "                           regressor=LinearRegression())</pre></div></div></div><div class=\"sk-parallel\"><div class=\"sk-parallel-item\"><div class=\"sk-item\"><div class=\"sk-label-container\"><div class=\"sk-label sk-toggleable\"><input class=\"sk-toggleable__control sk-hidden--visually\" id=\"sk-estimator-id-8\" type=\"checkbox\" ><label for=\"sk-estimator-id-8\" class=\"sk-toggleable__label sk-toggleable__label-arrow\">regressor: LinearRegression</label><div class=\"sk-toggleable__content\"><pre>LinearRegression()</pre></div></div></div><div class=\"sk-serial\"><div class=\"sk-item\"><div class=\"sk-estimator sk-toggleable\"><input class=\"sk-toggleable__control sk-hidden--visually\" id=\"sk-estimator-id-9\" type=\"checkbox\" ><label for=\"sk-estimator-id-9\" class=\"sk-toggleable__label sk-toggleable__label-arrow\">LinearRegression</label><div class=\"sk-toggleable__content\"><pre>LinearRegression()</pre></div></div></div></div></div></div></div></div></div></div></div></div>"
      ],
      "text/plain": [
       "Pipeline(steps=[('standardscaler', StandardScaler()),\n",
       "                ('transformedtargetregressor',\n",
       "                 TransformedTargetRegressor(func=<ufunc 'log1p'>,\n",
       "                                            inverse_func=<ufunc 'expm1'>,\n",
       "                                            regressor=LinearRegression()))])"
      ]
     },
     "execution_count": 168,
     "metadata": {},
     "output_type": "execute_result"
    }
   ],
   "source": [
    "ttreg = TransformedTargetRegressor(regressor=regressor, func = np.log1p, inverse_func = np.expm1)\n",
    "\n",
    "model_pipeline = make_pipeline(StandardScaler(), ttreg)\n",
    "model_pipeline.fit(X_train, y_train)"
   ]
  },
  {
   "cell_type": "code",
   "execution_count": 169,
   "id": "39b97e4f-2ee5-49d5-8af2-a6ef83fa4b61",
   "metadata": {
    "execution": {
     "iopub.execute_input": "2024-02-21T06:55:05.079035Z",
     "iopub.status.busy": "2024-02-21T06:55:05.078035Z",
     "iopub.status.idle": "2024-02-21T06:55:05.094438Z",
     "shell.execute_reply": "2024-02-21T06:55:05.093799Z",
     "shell.execute_reply.started": "2024-02-21T06:55:05.078035Z"
    }
   },
   "outputs": [
    {
     "name": "stdout",
     "output_type": "stream",
     "text": [
      "Training model R^2: 0.66\n",
      "\n",
      "Testing model R^2: 0.74\n"
     ]
    }
   ],
   "source": [
    "print(f'''Training model R^2: {model_pipeline.score(X_train, y_train):.2f}\n",
    "\n",
    "Testing model R^2: {model_pipeline.score(X_test, y_test):.2f}''')"
   ]
  },
  {
   "cell_type": "code",
   "execution_count": 170,
   "id": "176b70db-b0e9-4475-a936-922837b12389",
   "metadata": {
    "execution": {
     "iopub.execute_input": "2024-02-21T06:55:14.414447Z",
     "iopub.status.busy": "2024-02-21T06:55:14.413449Z",
     "iopub.status.idle": "2024-02-21T06:55:14.432115Z",
     "shell.execute_reply": "2024-02-21T06:55:14.431568Z",
     "shell.execute_reply.started": "2024-02-21T06:55:14.414447Z"
    }
   },
   "outputs": [
    {
     "data": {
      "text/plain": [
       "array([ 540223.99552209,  381159.68019465,  566224.900168  , ...,\n",
       "        579766.56985856, 1876510.04298073,  696145.97196237])"
      ]
     },
     "execution_count": 170,
     "metadata": {},
     "output_type": "execute_result"
    }
   ],
   "source": [
    "y_pred = model_pipeline.predict(X_test)\n",
    "y_pred"
   ]
  },
  {
   "cell_type": "code",
   "execution_count": 171,
   "id": "bf9d3e18-808b-4e29-87a4-c6a578be341c",
   "metadata": {
    "execution": {
     "iopub.execute_input": "2024-02-21T06:55:15.491964Z",
     "iopub.status.busy": "2024-02-21T06:55:15.491964Z",
     "iopub.status.idle": "2024-02-21T06:55:15.499889Z",
     "shell.execute_reply": "2024-02-21T06:55:15.498947Z",
     "shell.execute_reply.started": "2024-02-21T06:55:15.491964Z"
    }
   },
   "outputs": [],
   "source": [
    "# model_pipeline.named_steps['standardscaler'].inverse_transform(X_test)"
   ]
  },
  {
   "cell_type": "code",
   "execution_count": 172,
   "id": "12a482a0-876b-4b90-9135-0593c4f24d19",
   "metadata": {
    "execution": {
     "iopub.execute_input": "2024-02-21T06:55:15.782687Z",
     "iopub.status.busy": "2024-02-21T06:55:15.782687Z",
     "iopub.status.idle": "2024-02-21T06:55:15.797840Z",
     "shell.execute_reply": "2024-02-21T06:55:15.796849Z",
     "shell.execute_reply.started": "2024-02-21T06:55:15.782687Z"
    }
   },
   "outputs": [
    {
     "data": {
      "text/plain": [
       "194258.1"
      ]
     },
     "execution_count": 172,
     "metadata": {},
     "output_type": "execute_result"
    }
   ],
   "source": [
    "rmse = metrics.mean_squared_error(y_test, y_pred, squared = False).round(2)\n",
    "rmse"
   ]
  },
  {
   "cell_type": "code",
   "execution_count": 173,
   "id": "e8628437-9fcb-48b3-b745-a3ef9ba23837",
   "metadata": {
    "execution": {
     "iopub.execute_input": "2024-02-21T06:55:18.181413Z",
     "iopub.status.busy": "2024-02-21T06:55:18.180424Z",
     "iopub.status.idle": "2024-02-21T06:55:18.197246Z",
     "shell.execute_reply": "2024-02-21T06:55:18.196413Z",
     "shell.execute_reply.started": "2024-02-21T06:55:18.181413Z"
    }
   },
   "outputs": [
    {
     "data": {
      "text/plain": [
       "'The RMSE is 35.49% of the average price.'"
      ]
     },
     "execution_count": 173,
     "metadata": {},
     "output_type": "execute_result"
    }
   ],
   "source": [
    "f'The RMSE is {rmse / y_test.mean():.2%} of the average price.'"
   ]
  },
  {
   "cell_type": "code",
   "execution_count": 175,
   "id": "74fb5486-acb8-4110-a330-9427f0951939",
   "metadata": {
    "execution": {
     "iopub.execute_input": "2024-02-21T06:56:36.559441Z",
     "iopub.status.busy": "2024-02-21T06:56:36.559441Z",
     "iopub.status.idle": "2024-02-21T06:56:36.568536Z",
     "shell.execute_reply": "2024-02-21T06:56:36.568536Z",
     "shell.execute_reply.started": "2024-02-21T06:56:36.559441Z"
    }
   },
   "outputs": [
    {
     "data": {
      "text/plain": [
       "'The results are within 20.21% of the average price.'"
      ]
     },
     "execution_count": 175,
     "metadata": {},
     "output_type": "execute_result"
    }
   ],
   "source": [
    "mape = metrics.mean_absolute_percentage_error(y_test, y_pred)\n",
    "\n",
    "f'The results are within {mape:.2%} of the average price.'"
   ]
  },
  {
   "cell_type": "code",
   "execution_count": 55,
   "id": "8b290865-7065-4fd0-a834-af0bf6789130",
   "metadata": {
    "execution": {
     "iopub.execute_input": "2024-02-21T05:34:46.907747Z",
     "iopub.status.busy": "2024-02-21T05:34:46.905414Z",
     "iopub.status.idle": "2024-02-21T05:34:46.920333Z",
     "shell.execute_reply": "2024-02-21T05:34:46.920333Z",
     "shell.execute_reply.started": "2024-02-21T05:34:46.907680Z"
    }
   },
   "outputs": [],
   "source": [
    "# X_train_scaled = preprocessor.transform(X_train)\n",
    "# X_train_scaled"
   ]
  },
  {
   "cell_type": "code",
   "execution_count": 56,
   "id": "7ccd16e4-59c7-4baa-9019-0b8c0816f80e",
   "metadata": {
    "execution": {
     "iopub.execute_input": "2024-02-21T05:34:46.920333Z",
     "iopub.status.busy": "2024-02-21T05:34:46.920333Z",
     "iopub.status.idle": "2024-02-21T05:34:46.936438Z",
     "shell.execute_reply": "2024-02-21T05:34:46.935877Z",
     "shell.execute_reply.started": "2024-02-21T05:34:46.920333Z"
    }
   },
   "outputs": [],
   "source": [
    "# preprocessor.feature_names_in_"
   ]
  },
  {
   "cell_type": "code",
   "execution_count": 57,
   "id": "387028d9-463c-4ac3-b626-909f056fcf07",
   "metadata": {
    "execution": {
     "iopub.execute_input": "2024-02-21T05:34:46.937443Z",
     "iopub.status.busy": "2024-02-21T05:34:46.937443Z",
     "iopub.status.idle": "2024-02-21T05:34:46.951554Z",
     "shell.execute_reply": "2024-02-21T05:34:46.951554Z",
     "shell.execute_reply.started": "2024-02-21T05:34:46.937443Z"
    }
   },
   "outputs": [],
   "source": [
    "# preprocessor.get_feature_names_out()"
   ]
  },
  {
   "cell_type": "code",
   "execution_count": 58,
   "id": "70e5a3f0-3e9e-472b-856d-0cbe5ebfff8a",
   "metadata": {
    "execution": {
     "iopub.execute_input": "2024-02-21T05:34:46.953164Z",
     "iopub.status.busy": "2024-02-21T05:34:46.953164Z",
     "iopub.status.idle": "2024-02-21T05:34:46.968276Z",
     "shell.execute_reply": "2024-02-21T05:34:46.968276Z",
     "shell.execute_reply.started": "2024-02-21T05:34:46.953164Z"
    }
   },
   "outputs": [],
   "source": [
    "# linreg = LinearRegression(n_jobs = -2)\n",
    "\n",
    "# linreg.fit(preprocessor, y_train)"
   ]
  },
  {
   "cell_type": "markdown",
   "id": "9b90cf9b-684e-47ce-8648-a68aa98d4b64",
   "metadata": {},
   "source": [
    "# Regression: Random Forest Regressor"
   ]
  },
  {
   "cell_type": "code",
   "execution_count": 83,
   "id": "9d706b7b-5a4d-42cf-b30c-6e462a62c371",
   "metadata": {
    "execution": {
     "iopub.execute_input": "2024-02-21T05:43:05.430763Z",
     "iopub.status.busy": "2024-02-21T05:43:05.430763Z",
     "iopub.status.idle": "2024-02-21T05:43:05.442259Z",
     "shell.execute_reply": "2024-02-21T05:43:05.442052Z",
     "shell.execute_reply.started": "2024-02-21T05:43:05.430763Z"
    }
   },
   "outputs": [
    {
     "data": {
      "text/plain": [
       "0    98178\n",
       "1    98125\n",
       "2    98028\n",
       "3    98136\n",
       "4    98074\n",
       "Name: zipcode, dtype: category\n",
       "Categories (70, int64): [98001, 98002, 98003, 98004, ..., 98178, 98188, 98198, 98199]"
      ]
     },
     "execution_count": 83,
     "metadata": {},
     "output_type": "execute_result"
    }
   ],
   "source": [
    "data_zip_cats = data_w_zips.copy()\n",
    "data_zip_cats['zipcode'] = data_zip_cats['zipcode'].astype('category')\n",
    "data_zip_cats['zipcode'].head()"
   ]
  },
  {
   "cell_type": "code",
   "execution_count": 85,
   "id": "582a09a6-c3cc-4fa0-b8da-4ce53421cb4b",
   "metadata": {
    "execution": {
     "iopub.execute_input": "2024-02-21T05:43:15.631263Z",
     "iopub.status.busy": "2024-02-21T05:43:15.631263Z",
     "iopub.status.idle": "2024-02-21T05:43:15.644261Z",
     "shell.execute_reply": "2024-02-21T05:43:15.643257Z",
     "shell.execute_reply.started": "2024-02-21T05:43:15.631263Z"
    }
   },
   "outputs": [],
   "source": [
    "# data_zip_cats.info()"
   ]
  },
  {
   "cell_type": "code",
   "execution_count": 86,
   "id": "1f34348c-5b45-449a-868c-33787ba8d16a",
   "metadata": {
    "execution": {
     "iopub.execute_input": "2024-02-21T05:43:52.244282Z",
     "iopub.status.busy": "2024-02-21T05:43:52.244282Z",
     "iopub.status.idle": "2024-02-21T05:43:52.258516Z",
     "shell.execute_reply": "2024-02-21T05:43:52.258516Z",
     "shell.execute_reply.started": "2024-02-21T05:43:52.244282Z"
    }
   },
   "outputs": [],
   "source": [
    "target_feature = 'price'\n",
    "\n",
    "source_data = data_zip_cats\n",
    "\n",
    "X = source_data.drop(columns = target_feature)\n",
    "y = source_data.loc[:, target_feature]\n",
    "\n",
    "X_train, X_test, y_train, y_test = train_test_split(X, y, test_size = .25, random_state = 42)"
   ]
  },
  {
   "cell_type": "code",
   "execution_count": 87,
   "id": "219e36c9-c5a3-4109-b22b-3a0db1f80e4c",
   "metadata": {
    "execution": {
     "iopub.execute_input": "2024-02-21T05:43:56.005938Z",
     "iopub.status.busy": "2024-02-21T05:43:56.005938Z",
     "iopub.status.idle": "2024-02-21T05:43:59.597722Z",
     "shell.execute_reply": "2024-02-21T05:43:59.597722Z",
     "shell.execute_reply.started": "2024-02-21T05:43:56.005938Z"
    }
   },
   "outputs": [
    {
     "data": {
      "text/plain": [
       "0.8891"
      ]
     },
     "execution_count": 87,
     "metadata": {},
     "output_type": "execute_result"
    }
   ],
   "source": [
    "rfr = RandomForestRegressor(n_jobs = -1)\n",
    "\n",
    "rfr.fit(X_train, y_train)\n",
    "rfr.score(X_test, y_test).round(4)"
   ]
  },
  {
   "cell_type": "markdown",
   "id": "88d7ca57-f2f2-4a00-b666-f562f446745a",
   "metadata": {},
   "source": [
    "## RFR with TTR"
   ]
  },
  {
   "cell_type": "code",
   "execution_count": 183,
   "id": "095e3930-6158-4932-a6cd-ecd3dbd2b14f",
   "metadata": {
    "execution": {
     "iopub.execute_input": "2024-02-21T06:59:26.560604Z",
     "iopub.status.busy": "2024-02-21T06:59:26.559596Z",
     "iopub.status.idle": "2024-02-21T06:59:26.574952Z",
     "shell.execute_reply": "2024-02-21T06:59:26.573883Z",
     "shell.execute_reply.started": "2024-02-21T06:59:26.560604Z"
    }
   },
   "outputs": [],
   "source": [
    "regressor = LinearRegression()"
   ]
  },
  {
   "cell_type": "code",
   "execution_count": 184,
   "id": "3f8428ad-82b1-457d-af45-3c0c2eb657c5",
   "metadata": {
    "execution": {
     "iopub.execute_input": "2024-02-21T06:59:26.725518Z",
     "iopub.status.busy": "2024-02-21T06:59:26.725518Z",
     "iopub.status.idle": "2024-02-21T06:59:26.738037Z",
     "shell.execute_reply": "2024-02-21T06:59:26.736955Z",
     "shell.execute_reply.started": "2024-02-21T06:59:26.725518Z"
    }
   },
   "outputs": [],
   "source": [
    "ttreg = TransformedTargetRegressor(regressor=rfr, func = np.log1p, inverse_func = np.expm1)\n",
    "\n",
    "model_pipeline = make_pipeline(StandardScaler(), ttreg)"
   ]
  },
  {
   "cell_type": "code",
   "execution_count": 185,
   "id": "187c611d-6a14-45c3-979d-337f87e27968",
   "metadata": {
    "execution": {
     "iopub.execute_input": "2024-02-21T06:59:26.925793Z",
     "iopub.status.busy": "2024-02-21T06:59:26.924792Z",
     "iopub.status.idle": "2024-02-21T06:59:30.717947Z",
     "shell.execute_reply": "2024-02-21T06:59:30.717947Z",
     "shell.execute_reply.started": "2024-02-21T06:59:26.924792Z"
    }
   },
   "outputs": [
    {
     "data": {
      "text/plain": [
       "0.9772"
      ]
     },
     "execution_count": 185,
     "metadata": {},
     "output_type": "execute_result"
    }
   ],
   "source": [
    "model_pipeline.fit(X_train, y_train)\n",
    "model_pipeline.score(X_train, y_train).round(4)"
   ]
  },
  {
   "cell_type": "code",
   "execution_count": 186,
   "id": "b7a05719-651a-4dbe-a5d7-ed29d5905545",
   "metadata": {
    "execution": {
     "iopub.execute_input": "2024-02-21T06:59:30.719947Z",
     "iopub.status.busy": "2024-02-21T06:59:30.719947Z",
     "iopub.status.idle": "2024-02-21T06:59:30.766066Z",
     "shell.execute_reply": "2024-02-21T06:59:30.765977Z",
     "shell.execute_reply.started": "2024-02-21T06:59:30.719947Z"
    }
   },
   "outputs": [
    {
     "data": {
      "text/plain": [
       "0.8733"
      ]
     },
     "execution_count": 186,
     "metadata": {},
     "output_type": "execute_result"
    }
   ],
   "source": [
    "model_pipeline.score(X_test, y_test).round(4)"
   ]
  },
  {
   "cell_type": "code",
   "execution_count": 187,
   "id": "dcc50be0-8a77-405b-9d75-ac4fb5172042",
   "metadata": {
    "execution": {
     "iopub.execute_input": "2024-02-21T07:00:20.176131Z",
     "iopub.status.busy": "2024-02-21T07:00:20.175119Z",
     "iopub.status.idle": "2024-02-21T07:00:20.222919Z",
     "shell.execute_reply": "2024-02-21T07:00:20.221921Z",
     "shell.execute_reply.started": "2024-02-21T07:00:20.176131Z"
    }
   },
   "outputs": [
    {
     "data": {
      "text/plain": [
       "'The results are within 13.00% of the average price.'"
      ]
     },
     "execution_count": 187,
     "metadata": {},
     "output_type": "execute_result"
    }
   ],
   "source": [
    "y_pred = model_pipeline.predict(X_test)\n",
    "\n",
    "mape = metrics.mean_absolute_percentage_error(y_test, y_pred)\n",
    "\n",
    "f'The results are within {mape:.2%} of the average price.'"
   ]
  },
  {
   "cell_type": "code",
   "execution_count": null,
   "id": "0d7ae233-4d16-4e5a-91be-c0ed3f152a4f",
   "metadata": {},
   "outputs": [],
   "source": []
  },
  {
   "cell_type": "code",
   "execution_count": 88,
   "id": "33a1c3f3-bf34-4fe6-8a02-1cb4a6946109",
   "metadata": {
    "execution": {
     "iopub.execute_input": "2024-02-21T05:44:00.772682Z",
     "iopub.status.busy": "2024-02-21T05:44:00.771678Z",
     "iopub.status.idle": "2024-02-21T05:44:00.782801Z",
     "shell.execute_reply": "2024-02-21T05:44:00.781678Z",
     "shell.execute_reply.started": "2024-02-21T05:44:00.772682Z"
    }
   },
   "outputs": [],
   "source": [
    "# rfr.feature_names_in_, rfr.feature_importances_.round(4)"
   ]
  },
  {
   "cell_type": "markdown",
   "id": "bad80266-e9c5-462d-bd71-48adcb94fe42",
   "metadata": {},
   "source": [
    "# Regression: HistGradientBoostingRegressor"
   ]
  },
  {
   "cell_type": "code",
   "execution_count": 89,
   "id": "be8f0456-a5e0-4128-b2a7-a2ee9cbe486a",
   "metadata": {
    "execution": {
     "iopub.execute_input": "2024-02-21T05:44:03.173859Z",
     "iopub.status.busy": "2024-02-21T05:44:03.173859Z",
     "iopub.status.idle": "2024-02-21T05:44:03.733231Z",
     "shell.execute_reply": "2024-02-21T05:44:03.732309Z",
     "shell.execute_reply.started": "2024-02-21T05:44:03.173859Z"
    }
   },
   "outputs": [
    {
     "data": {
      "text/plain": [
       "0.8909"
      ]
     },
     "execution_count": 89,
     "metadata": {},
     "output_type": "execute_result"
    }
   ],
   "source": [
    "hgbr = HistGradientBoostingRegressor(random_state=42)\n",
    "\n",
    "hgbr.fit(X_train, y_train)\n",
    "hgbr.score(X_test, y_test).round(4)"
   ]
  },
  {
   "cell_type": "markdown",
   "id": "7df9611e-e0c3-4b08-8d3c-d210f9c46868",
   "metadata": {},
   "source": [
    "# Iterative Testing"
   ]
  },
  {
   "cell_type": "markdown",
   "id": "59807f65-db6a-494f-8ff9-bc5efc9ce81f",
   "metadata": {},
   "source": [
    "## Flexible Function"
   ]
  },
  {
   "cell_type": "code",
   "execution_count": 106,
   "id": "b02a470d-b26f-4285-8c58-661f22337549",
   "metadata": {
    "execution": {
     "iopub.execute_input": "2024-02-21T05:55:29.501061Z",
     "iopub.status.busy": "2024-02-21T05:55:29.500067Z",
     "iopub.status.idle": "2024-02-21T05:55:29.512786Z",
     "shell.execute_reply": "2024-02-21T05:55:29.511754Z",
     "shell.execute_reply.started": "2024-02-21T05:55:29.501061Z"
    }
   },
   "outputs": [],
   "source": [
    "def model_testing(\n",
    "    source_data = None,\n",
    "    target_feature = None,\n",
    "    test_size = .25,\n",
    "    random_state = 42,\n",
    "    model = None,\n",
    "    model_settings = None\n",
    "):\n",
    "    \n",
    "    '''Probably could just do a gridsearch, but lazy. Easy way to rotate data, models.'''\n",
    "    \n",
    "    X = source_data.drop(columns = target_feature)\n",
    "    y = source_data.loc[:, target_feature]\n",
    "\n",
    "    X_train, X_test, y_train, y_test = train_test_split(X, y, test_size = test_size, random_state = random_state)\n",
    "\n",
    "    model.fit(X_train, y_train)\n",
    "\n",
    "    return {'model': model, 'score': model.score(X_test, y_test).round(4)}"
   ]
  },
  {
   "cell_type": "code",
   "execution_count": 107,
   "id": "db9d5bb0-940a-46ba-8f7d-846e00941227",
   "metadata": {
    "execution": {
     "iopub.execute_input": "2024-02-21T05:55:29.925333Z",
     "iopub.status.busy": "2024-02-21T05:55:29.924337Z",
     "iopub.status.idle": "2024-02-21T05:55:29.934650Z",
     "shell.execute_reply": "2024-02-21T05:55:29.933700Z",
     "shell.execute_reply.started": "2024-02-21T05:55:29.924337Z"
    }
   },
   "outputs": [],
   "source": [
    "sample_data = source_data.drop(columns = ['id', 'date'])"
   ]
  },
  {
   "cell_type": "markdown",
   "id": "8cb7c420-8b56-48f2-882d-39fe9b7415ab",
   "metadata": {},
   "source": [
    "## RFR "
   ]
  },
  {
   "cell_type": "code",
   "execution_count": 117,
   "id": "585fe3e8-ee40-46d5-952e-bd518a2d394a",
   "metadata": {
    "execution": {
     "iopub.execute_input": "2024-02-21T05:58:50.942197Z",
     "iopub.status.busy": "2024-02-21T05:58:50.942197Z",
     "iopub.status.idle": "2024-02-21T05:58:54.432408Z",
     "shell.execute_reply": "2024-02-21T05:58:54.432287Z",
     "shell.execute_reply.started": "2024-02-21T05:58:50.942197Z"
    }
   },
   "outputs": [
    {
     "data": {
      "text/plain": [
       "0.8848"
      ]
     },
     "execution_count": 117,
     "metadata": {},
     "output_type": "execute_result"
    }
   ],
   "source": [
    "rfr_model = model_testing(source_data = sample_data,\n",
    "                          target_feature = 'price',\n",
    "                          model = RandomForestRegressor(n_jobs = -1))\n",
    "rfr_model['score']"
   ]
  },
  {
   "cell_type": "markdown",
   "id": "ca5fa486-4e2d-4747-8320-2591a49a8509",
   "metadata": {},
   "source": [
    "## HGBR"
   ]
  },
  {
   "cell_type": "code",
   "execution_count": 130,
   "id": "604dc3dd-3394-4b4c-8421-15ad547e8c6e",
   "metadata": {
    "execution": {
     "iopub.execute_input": "2024-02-21T06:05:19.639847Z",
     "iopub.status.busy": "2024-02-21T06:05:19.638856Z",
     "iopub.status.idle": "2024-02-21T06:05:20.244287Z",
     "shell.execute_reply": "2024-02-21T06:05:20.243889Z",
     "shell.execute_reply.started": "2024-02-21T06:05:19.639847Z"
    }
   },
   "outputs": [
    {
     "data": {
      "text/plain": [
       "0.8901"
      ]
     },
     "execution_count": 130,
     "metadata": {},
     "output_type": "execute_result"
    }
   ],
   "source": [
    "hgbr_model = model_testing(source_data = sample_data,\n",
    "                          target_feature = 'price',\n",
    "                          model = HistGradientBoostingRegressor())\n",
    "hgbr_model['score']"
   ]
  },
  {
   "cell_type": "markdown",
   "id": "ac4cef75-ea73-4c68-b5ab-aba2b65fd964",
   "metadata": {},
   "source": [
    "## ExtraTreesRegressor"
   ]
  },
  {
   "cell_type": "code",
   "execution_count": 131,
   "id": "fce97566-a3ce-4480-ad2f-fb49abdc87b4",
   "metadata": {
    "execution": {
     "iopub.execute_input": "2024-02-21T06:05:32.118669Z",
     "iopub.status.busy": "2024-02-21T06:05:32.118669Z",
     "iopub.status.idle": "2024-02-21T06:05:33.664889Z",
     "shell.execute_reply": "2024-02-21T06:05:33.664889Z",
     "shell.execute_reply.started": "2024-02-21T06:05:32.118669Z"
    }
   },
   "outputs": [
    {
     "data": {
      "text/plain": [
       "0.8752"
      ]
     },
     "execution_count": 131,
     "metadata": {},
     "output_type": "execute_result"
    }
   ],
   "source": [
    "etr_model = model_testing(source_data = sample_data,\n",
    "                          target_feature = 'price',\n",
    "                          model = ExtraTreesRegressor(n_jobs = -1))\n",
    "etr_model['score']"
   ]
  },
  {
   "cell_type": "markdown",
   "id": "8ec7131a-58ac-417a-82f1-4e2919ef2ef7",
   "metadata": {},
   "source": [
    "## RANSACRegressor"
   ]
  },
  {
   "cell_type": "markdown",
   "id": "a413ddbd-ffb8-4b1f-892a-96fdb09ff8a7",
   "metadata": {},
   "source": [
    "---\n",
    "\n",
    "Tried different combinations of fields, dtypes, but always performed worse than any decision-tree-based method.\n",
    "\n",
    "---"
   ]
  },
  {
   "cell_type": "code",
   "execution_count": 127,
   "id": "e305e7ec-6aa5-4378-b452-8694ceef2a55",
   "metadata": {
    "execution": {
     "iopub.execute_input": "2024-02-21T06:03:18.197179Z",
     "iopub.status.busy": "2024-02-21T06:03:18.197179Z",
     "iopub.status.idle": "2024-02-21T06:03:18.210354Z",
     "shell.execute_reply": "2024-02-21T06:03:18.210354Z",
     "shell.execute_reply.started": "2024-02-21T06:03:18.197179Z"
    }
   },
   "outputs": [],
   "source": [
    "num_data = source_data.drop(columns = ['id', 'date'])\n",
    "num_data_no_zip = source_data.drop(columns = ['id', 'date', 'zipcode'])"
   ]
  },
  {
   "cell_type": "code",
   "execution_count": 129,
   "id": "b25f43fd-fabd-428a-a091-c1e2b0709dcc",
   "metadata": {
    "execution": {
     "iopub.execute_input": "2024-02-21T06:03:32.429499Z",
     "iopub.status.busy": "2024-02-21T06:03:32.429499Z",
     "iopub.status.idle": "2024-02-21T06:03:32.547260Z",
     "shell.execute_reply": "2024-02-21T06:03:32.546322Z",
     "shell.execute_reply.started": "2024-02-21T06:03:32.429499Z"
    }
   },
   "outputs": [
    {
     "data": {
      "text/plain": [
       "0.5654"
      ]
     },
     "execution_count": 129,
     "metadata": {},
     "output_type": "execute_result"
    }
   ],
   "source": [
    "fit_model = model_testing(source_data = num_data,\n",
    "                          target_feature = 'price',\n",
    "                          model = RANSACRegressor())\n",
    "fit_model['score']"
   ]
  },
  {
   "cell_type": "code",
   "execution_count": null,
   "id": "eee721c9-634b-4784-8a90-8fff463acb31",
   "metadata": {},
   "outputs": [],
   "source": []
  }
 ],
 "metadata": {
  "kernelspec": {
   "display_name": "Python (dojo-env)",
   "language": "python",
   "name": "dojo-env"
  },
  "language_info": {
   "codemirror_mode": {
    "name": "ipython",
    "version": 3
   },
   "file_extension": ".py",
   "mimetype": "text/x-python",
   "name": "python",
   "nbconvert_exporter": "python",
   "pygments_lexer": "ipython3",
   "version": "3.10.10"
  },
  "widgets": {
   "application/vnd.jupyter.widget-state+json": {
    "state": {},
    "version_major": 2,
    "version_minor": 0
   }
  }
 },
 "nbformat": 4,
 "nbformat_minor": 5
}
